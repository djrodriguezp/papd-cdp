{
 "cells": [
  {
   "cell_type": "markdown",
   "metadata": {},
   "source": [
    "# Funciones en Python\n",
    "\n",
    "## ¿Qué es una función?\n",
    "Una función es un bloque de código que ejecuta una secuencia de pasos con un objetivo especifico al ser invocada desde cualquier parte de un programa. Son bastante útiles para definir secuencias de código repetitivas en los programas.\n",
    "\n",
    "Las funciones, según sean nuestras necesidades, pueden ser invocadas sin o con múltiples parámetros y de igual manera pueden retornar 0 o más valores.\n",
    "\n",
    "Utilizar funciones en nuestro código nos brinda las ventajas de tener un código limpio, modular y pueden ser reutilizadas en otros programas.\n",
    "\n",
    "Python incluye varias funciones en su librería estándar que pueden ser invocadas por el programador, sin embargo, también nos brinda la posibilidad de definir nuestras propias funciones por medio de la sentencia **def**."
   ]
  },
  {
   "cell_type": "code",
   "execution_count": 1,
   "metadata": {},
   "outputs": [
    {
     "name": "stdout",
     "output_type": "stream",
     "text": [
      "Hello World!\n"
     ]
    }
   ],
   "source": [
    "#función de librería estandar\n",
    "print(\"Hello World!\")"
   ]
  },
  {
   "cell_type": "markdown",
   "metadata": {},
   "source": [
    "## Funciones definidas por el programador\n",
    "\n",
    "Tal como se mencionó en la sección anterior, para definir funciones en Python, debemos utilizar la sentencia **def** la cual contiene la siguiente estructura:\n",
    "\n",
    "def *&lt;nombre_funcion&gt;* ( \\[ argumentos \\] ):\n",
    "\n",
    "&emsp;código de la función\n",
    "\n",
    "&emsp;return \\[valores de retorno\\]\n",
    "\n",
    "**Nombre Función:** Este es el identificador con el que la función es invocado desde nuestro programa u otras funciones, esto seguido de paréntesis.\n",
    " \n",
    "**Argumentos:** Estos son valores de entrada que recibe la función y pueden ser utilizados dentro de su definición. No son obligatorios al definir la función, sin embargo, los paréntesis sí son obligatorios.\n",
    "  \n",
    "**Código de Función:** Esta sección contiene las líneas de código a ejecutar cuando la función es invocada. Todas las líneas aquí definidas deben estar tabuladas con respecto a def. En esta sección podemos declarar variables locales, utilizar estructuras de control, llamar a otras funciones, etc.\n",
    "\n",
    "**return:** Aquí se define el valor o valores que deseamos retornar al finalizar la función. Es posible declarar una función sin un valor de retorno.\n",
    "\n",
    "La función debe ser llamada por medio del nombre definido y los argumentos dentro de paréntesis, sí la función no recibe argumentos solo se colocan los paréntesis vacíos.\n",
    "\n",
    "Algo importante a tomar en cuenta es que debido a que Python es un lenguaje interpretado, las funciones deben estar definidas antes de ser llamada. Sí la función se define después de su llamada, el interprete no encontrará la función y tendremos un error de ejecución.\n",
    "\n",
    "A continuación veremos algunos ejemplos de definición de funciones:\n",
    "\n",
    "### Funciones sin parámetros:"
   ]
  },
  {
   "cell_type": "code",
   "execution_count": 2,
   "metadata": {},
   "outputs": [
    {
     "name": "stdout",
     "output_type": "stream",
     "text": [
      "Holi\n",
      "Hola Mundo!\n"
     ]
    }
   ],
   "source": [
    "#definición de función\n",
    "def hello():\n",
    "    print(\"Holi\")\n",
    "    \n",
    "def hello_world():\n",
    "    value = \"Hola Mundo!\"\n",
    "    return value\n",
    "\n",
    "#llamada a función\n",
    "hello()\n",
    "\n",
    "#llamada a función con valor de retorno\n",
    "print(hello_world())"
   ]
  },
  {
   "cell_type": "code",
   "execution_count": 3,
   "metadata": {},
   "outputs": [
    {
     "ename": "NameError",
     "evalue": "name 'hello2' is not defined",
     "output_type": "error",
     "traceback": [
      "\u001b[1;31m---------------------------------------------------------------------------\u001b[0m",
      "\u001b[1;31mNameError\u001b[0m                                 Traceback (most recent call last)",
      "\u001b[1;32m<ipython-input-3-0ac7e1d49b6b>\u001b[0m in \u001b[0;36m<module>\u001b[1;34m\u001b[0m\n\u001b[0;32m      1\u001b[0m \u001b[1;31m#error de ejecución al llamar a una función antes de ser definida\u001b[0m\u001b[1;33m\u001b[0m\u001b[1;33m\u001b[0m\u001b[1;33m\u001b[0m\u001b[0m\n\u001b[1;32m----> 2\u001b[1;33m \u001b[0mhello2\u001b[0m\u001b[1;33m(\u001b[0m\u001b[1;33m)\u001b[0m\u001b[1;33m\u001b[0m\u001b[1;33m\u001b[0m\u001b[0m\n\u001b[0m\u001b[0;32m      3\u001b[0m \u001b[1;33m\u001b[0m\u001b[0m\n\u001b[0;32m      4\u001b[0m \u001b[1;32mdef\u001b[0m \u001b[0mhello2\u001b[0m\u001b[1;33m(\u001b[0m\u001b[1;33m)\u001b[0m\u001b[1;33m:\u001b[0m\u001b[1;33m\u001b[0m\u001b[1;33m\u001b[0m\u001b[0m\n\u001b[0;32m      5\u001b[0m     \u001b[0mprint\u001b[0m\u001b[1;33m(\u001b[0m\u001b[1;34m\"Holi 2\"\u001b[0m\u001b[1;33m)\u001b[0m\u001b[1;33m\u001b[0m\u001b[1;33m\u001b[0m\u001b[0m\n",
      "\u001b[1;31mNameError\u001b[0m: name 'hello2' is not defined"
     ]
    }
   ],
   "source": [
    "#error de ejecución al llamar a una función antes de ser definida\n",
    "hello2()\n",
    "\n",
    "def hello2():\n",
    "    print(\"Holi 2\")"
   ]
  },
  {
   "cell_type": "markdown",
   "metadata": {},
   "source": [
    "### Funciones con parámetros posicionales:\n",
    "Cuando se llama a una función, esta recibe los parámetros en el mismo orden que son definidos, a esto se le conoce como parámetros posicionales."
   ]
  },
  {
   "cell_type": "code",
   "execution_count": 4,
   "metadata": {},
   "outputs": [
    {
     "name": "stdout",
     "output_type": "stream",
     "text": [
      "valor recibido en x: 3\n",
      "valor recibido en y: 5\n",
      "resultado función suma: 8\n"
     ]
    }
   ],
   "source": [
    "def suma(x,y):\n",
    "    print(\"valor recibido en x: \" +str(x))\n",
    "    print(\"valor recibido en y: \" +str(y))\n",
    "    return x+y\n",
    "\n",
    "resultado = suma(3,5)\n",
    "print(\"resultado función suma: \"+str(resultado))"
   ]
  },
  {
   "cell_type": "markdown",
   "metadata": {},
   "source": [
    "### Funciones con parámetros nombrados:\n",
    "Si no deseamos enviar los parámetros en orden, es posible enviarlos manera desordenada si se conoce el nombre con el que se definió el parámetro en la función."
   ]
  },
  {
   "cell_type": "code",
   "execution_count": 5,
   "metadata": {},
   "outputs": [
    {
     "name": "stdout",
     "output_type": "stream",
     "text": [
      "valor recibido en x: 5\n",
      "valor recibido en y: 3\n",
      "resultado función suma: 8\n"
     ]
    }
   ],
   "source": [
    "def suma(x,y):\n",
    "    print(\"valor recibido en x: \" +str(x))\n",
    "    print(\"valor recibido en y: \" +str(y))\n",
    "    return x+y\n",
    "\n",
    "resultado = suma(y=3,x=5)\n",
    "print(\"resultado función suma: \"+str(resultado))"
   ]
  },
  {
   "cell_type": "markdown",
   "metadata": {},
   "source": [
    "### Funciones con parámetros opcionales:\n",
    "Python nos brinda la posibilidad de definir parámetros opcionales, esto se logra asignando un valor al parámetro en la definición de la función. Si al invocar la función no se envía este parametro, se le asigna el valor por defecto."
   ]
  },
  {
   "cell_type": "code",
   "execution_count": 6,
   "metadata": {},
   "outputs": [
    {
     "name": "stdout",
     "output_type": "stream",
     "text": [
      "valor recibido en x: 5\n",
      "valor recibido en y: 1\n",
      "resultado función suma con parámetro opcional: 6\n",
      "\n",
      "valor recibido en x: 5\n",
      "valor recibido en y: 3\n",
      "resultado función suma sin parámetro opcional: 8\n"
     ]
    }
   ],
   "source": [
    "def suma(x,y=1):\n",
    "    print(\"valor recibido en x: \" +str(x))\n",
    "    print(\"valor recibido en y: \" +str(y))\n",
    "    return x+y\n",
    "\n",
    "resultado = suma(5)\n",
    "print(\"resultado función suma con parámetro opcional: \"+str(resultado)+\"\\n\")\n",
    "\n",
    "print(\"resultado función suma sin parámetro opcional: \"+str(suma(5,3)))"
   ]
  },
  {
   "cell_type": "markdown",
   "metadata": {},
   "source": [
    "### Retorno de múltiples valores:\n",
    "En los ejemplos vistos hasta ahora, solo se han definido funciones sin o con 1 valor de retorno, sin embargo, Python nos ofrece la facilidad de poder retornar más de 1 valor, enviandolos de una manera similar a la que recibe los parámetros, en forma de tupla."
   ]
  },
  {
   "cell_type": "code",
   "execution_count": 7,
   "metadata": {},
   "outputs": [
    {
     "name": "stdout",
     "output_type": "stream",
     "text": [
      "suma:8 resta:2\n",
      "(14, 4)\n"
     ]
    }
   ],
   "source": [
    "def suma_resta(x,y):\n",
    "    suma = x+y\n",
    "    resta = x-y\n",
    "    return suma,resta\n",
    "\n",
    "#recibiendo resultados en diferentes variables \n",
    "suma,resta = suma_resta(5,3)\n",
    "print(\"suma:\"+str(suma)+\" resta:\"+str(resta))\n",
    "\n",
    "#recibiendo resultados en una tupla\n",
    "resultados = ()\n",
    "resultados = suma_resta(9,5)\n",
    "print(resultados)"
   ]
  },
  {
   "cell_type": "markdown",
   "metadata": {},
   "source": [
    "### Funciones como objetos y parámetros de otras funciones:\n",
    "Las funciones de Python son de primera clase (first-class object), esto quiere decir que tienen un tipo de dato, pueden asignarse a variables (como ya lo vimos en ejemplos anteriores), pero tambien tienen una cualidad adicional y es que las funciones pueden pasarse como parámetros a otras funciones."
   ]
  },
  {
   "cell_type": "code",
   "execution_count": 8,
   "metadata": {},
   "outputs": [
    {
     "name": "stdout",
     "output_type": "stream",
     "text": [
      "suma: 8\n",
      "resta: 2\n"
     ]
    }
   ],
   "source": [
    "def suma(x,y):\n",
    "    return x+y\n",
    "\n",
    "def resta(x,y):\n",
    "    return x-y\n",
    "\n",
    "#la función operación recibe como parámetros 2 enteros y una función que representa la operación aritmética a realizar\n",
    "def operacion(x,y,operacion):\n",
    "    return operacion(x,y)\n",
    "\n",
    "print(\"suma: \" +str(operacion(5,3,suma)))\n",
    "print(\"resta: \"+str(operacion(5,3,resta)))"
   ]
  },
  {
   "cell_type": "markdown",
   "metadata": {},
   "source": [
    "### Funciones anónimas o lambda\n",
    "Existe un tipo de funciones especiales las cuales no tienen nombre por lo cual son denominadas como anónimas o funciones lambda, y estas no deben ser definidas con la sentencia *def*. Este tipo de funciones son convenientes cuando se quiere definir una función simple en una línea.\n",
    "\n",
    "la sintaxis de estas funciones es:\n",
    "\n",
    "*lambda* parámetros entrada : expresiones\n",
    "\n",
    "Veamos algunos ejemplos:"
   ]
  },
  {
   "cell_type": "code",
   "execution_count": 9,
   "metadata": {},
   "outputs": [
    {
     "name": "stdout",
     "output_type": "stream",
     "text": [
      "¿2 es par?: True\n",
      "¿5 es par?: False\n",
      "resultado suma 1: 8\n",
      "resultado suma 2: 5\n"
     ]
    }
   ],
   "source": [
    "#función lambda con 1 parámetro de entrada\n",
    "numero_par = lambda x : x%2 == 0\n",
    "\n",
    "print(\"¿2 es par?: \" +str(numero_par(2)))\n",
    "print(\"¿5 es par?: \" +str(numero_par(5)))\n",
    "\n",
    "#función lambda con 2 parámetros de entrada\n",
    "suma = lambda x,y : x+y\n",
    "\n",
    "print(\"resultado suma 1: \" +str(suma(5,3)))\n",
    "print(\"resultado suma 2: \" +str(suma(3,2)))\n",
    "\n"
   ]
  }
 ],
 "metadata": {
  "kernelspec": {
   "display_name": "Python 3",
   "language": "python",
   "name": "python3"
  },
  "language_info": {
   "codemirror_mode": {
    "name": "ipython",
    "version": 3
   },
   "file_extension": ".py",
   "mimetype": "text/x-python",
   "name": "python",
   "nbconvert_exporter": "python",
   "pygments_lexer": "ipython3",
   "version": "3.8.1"
  }
 },
 "nbformat": 4,
 "nbformat_minor": 4
}
