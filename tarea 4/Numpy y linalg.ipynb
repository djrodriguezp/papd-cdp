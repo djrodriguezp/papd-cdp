{
 "cells": [
  {
   "cell_type": "markdown",
   "metadata": {},
   "source": [
    "# NumPy y algebra lineal(parte 1) \n",
    "\n",
    "\n",
    "* Su nombre se deriva de Numeric Python\n",
    "* Es una libreria amplia:   user guide de casi 200 pagina, reference manual mas de 1500\n",
    "    * np. <tab> para ver opciones\n",
    "    * np.lookfor? , help(np.lookfor)\n",
    "    * np.lookfor(“cosine”)\n",
    "    * np.cos? , help(np.cos)\n",
    "* Paquete fundamental de computación científica en Python y báse para otros paquetes mas específicos y/o avanzados\n",
    "* Performance superior, parecido a lenguajes compilados con la facilidad de Python\n",
    "* ndarrays :  tipo básico de objeto, corresponde al tipo de objeto matemático conocido como Tensor\n",
    "    * Arreglos multidimensionales\n",
    "    * Mutables como las listas\n",
    "    * Podemos hacer indexing y slicing sobre ellos\n",
    "\n",
    "* Tipo de dato y tamaño fijado en creación lo cual le permite aplicar optimizaciones: El usar el mismo tipo y tamaño definido permite asegurar que todos los objetos utilizan el mismo tamaño de memoria y esto permite realizar muchas operaciones pre-compiladas de C. Esto permite realizar operaciones mucho mas efcientemente y con menos código que con listas.\n",
    "* Operaciones vectorizadas vs por ciclos como ventaja de numpy(simplicidad y eficiencia) **Nota**: Siempre usar vectorizacion en el curso y en la carrera.\n",
    "\n",
    "## ¿Por que estudiamos en ciencia de datos álgebra lineal?\n",
    "\n",
    "Algebra lineal es una bella rama de la matemáticas que tiene muchas aplicaciones en diversas áreas, en ciencias de la computación y ciencia de datos tiene también innumerables aplicaciones  pero existe un motivo por el cual se vuelve escencial :\n",
    "\n",
    "**Todo algoritmo, modelo matemático, estadístico ,  AI , etc trabaja con números y colecciones de estos**, aún los modelos para variables categóricas transforman de algún modo estas a una representación numérica, en ciencia de datos llamamos **embedding** al proceso de convertir datos no numéricos a representaciones numéricas y a las estructuras de datos resultantes(comunmente vectores) **embeddings** .\n",
    "\n",
    "Podemos pensar entonces que el algebra lineal y sus estructuras entonces nos proveen una **manera de representar y trabajar información en la computadora**\n",
    "\n",
    "<img src=\"https://upload.wikimedia.org/wikipedia/commons/thumb/4/45/Components_stress_tensor.svg/300px-Components_stress_tensor.svg.png\"/>\n",
    "\n",
    "### Ejemplos:\n",
    "\n",
    "* Computer Vision: imagenes son tensores\n",
    "* NLP: palabras son vectores.\n",
    "\n",
    "Algebra lineal por si solo es un campo amplio(algunas universidades dan 2 cursos de 1 semestre o mas del tema) y no podemos cubrir todo lo que nos gustaría en esta clase, pero existe gran variedad de recursos en internet y es un tema que agrega valor en tu carrera de data science, especialmente si tu interés principal es ML y AI. Por ejemplo:\n",
    "\n",
    "* Uno de los algoritmos mas famosos de ML: support VECTOR machine\n",
    "* Uno de los metodos mas populares de AI en la actualidad es \"deep learning\" que se basa en transformaciones lineales (multiplicación de matrices).\n",
    "* Los frameworks mas populares de ML tienen al algebra lineal como elemento base:\n",
    "    * TensorFlow incluso basa su nombre en la estructura básica: Tensor\n",
    "    * PyTorch: en Pytorch, la estructura de datos básica es precisamente el Tensor\n",
    "    \n",
    "\n",
    "### ¿NumPy mas que algebra lineal?\n",
    "\n",
    "Aun que NumPy se basa mucho y es muy útil para algebra lineal y estructuras de esta rama, también es útil para realizar otros tipos de operaciones numéricas y es la base  para otros paquetes mas específicos , por ejemplo podemos usar NumPy también para:\n",
    "\n",
    "* Numeros aleatorios: NumPy provee capacidades para trabajar con números aleatorios y colecciones de esto, por ejemplo generación de numeros aleatorios de muchas distribuciones de probabiliad(muestreo/sampleo) escencial en estadística y modelación y simulación.\n",
    "* Transormadas de Fourier\n",
    "* Scipy: paquete basado en Python que extiende muchas de sus capacidades con capacidades adicionales como:\n",
    "    * Integración y solución de ecuaciones diferenciales.\n",
    "    * Encontrar raices de funciones y optimización numérica.\n",
    "    * Algebra lineal adicional.\n",
    "    \n",
    "    \n",
    "    \n",
    "Para usar NumPy es necesario instalarlo, si usamos Anaconda debemos instalarlo en el ambiente deseado, en linea de comandos esto se gra facilmente con:\n",
    "\n",
    "**conda install numpy**"
   ]
  },
  {
   "cell_type": "markdown",
   "metadata": {},
   "source": [
    "# Instalar numpy desde el jupyter notebook en el ambiente actual de Anaconda\n",
    "# esto puede ser realizado de manera tradicional con linea de comandos o Anaconda Navigator\n",
    "import sys\n",
    "!conda install --yes --prefix {sys.prefix} numpy\n",
    "\n",
    "# ! ejecuta un comando del sistema desde el notebook, el comando ejecutado fue:\n",
    "print(\"Comando ejecutado:conda install --yes --prefix {\"+sys.prefix+\"} numpy\")"
   ]
  },
  {
   "cell_type": "markdown",
   "metadata": {},
   "source": [
    "Para poder utilizar numpy debemos importar el paquete, es casi un estandar de la industria importarlo bajo el alias **\"np\"**"
   ]
  },
  {
   "cell_type": "code",
   "execution_count": 5,
   "metadata": {},
   "outputs": [],
   "source": [
    "import numpy as np"
   ]
  },
  {
   "cell_type": "markdown",
   "metadata": {},
   "source": [
    "## Escalares y Vectores (Arreglos de una dimension): \n",
    "\n",
    "La pieza clave y fundamental para el algebra lineal es el **vector** (pero aun que el vector es la base, hay un objeto mas general que este como veremos mas adelante.).\n",
    "\n",
    "<img src=\"NumPy_algebra_lineal/Selección_999(2003).png\">\n",
    "\n",
    "<img src=\"NumPy_algebra_lineal/fisica_cs.png\">\n",
    "\n",
    "Matemáticamente el Tensor es la entidad mas general cuando hablamos de arreglos o colecciones de elementos y que comunmente representan coordenadas en un plano posiblemente multidimensional, por lo tanto al traducirlo a software científico un tensor es también la estructura mas general para trabajar ,y es la estructura de datos básica en la cual almacenaremos información, **NumPy logra esto a través del objeto ndarray**(tensorflow usa tf.Tensor, PyTorch usa  torch.Tensor).\n",
    "\n",
    "<img src=\"https://upload.wikimedia.org/wikipedia/commons/thumb/4/45/Components_stress_tensor.svg/300px-Components_stress_tensor.svg.png\"/>\n",
    "\n",
    "<img src=\"https://wikimedia.org/api/rest_v1/media/math/render/svg/4885fc71da8be5094bf42dd592882a4deb94ff90\">\n",
    "\n",
    "\n",
    "\n",
    "Ya que el tensor es el tipo general , los objetos con los que comunmente hemos trabajado como vectores y matrices deben ser un caso específico de tensores, por lo tanto podemos pensar que un tensor es: **una generalización de vectores y matrices que podemos conceptualizar o entender como una arreglo multidimensional**\n",
    "\n",
    "Si todos estos son tensores, debe haber una propiedad de los tensores que los distinga, esta propiedad es llamada **rango del tensor** y se define como el número de indices o coordenadas necesarias para referenciar a un elemento del tensor así tenemos:\n",
    "\n",
    "* Escalar: tensor de rango 0\n",
    "* Vector: tensores de rango 1\n",
    "\n",
    "Ilustración 1:\n",
    "\n",
    "<img src=\"https://cdn-images-1.medium.com/max/1600/1*pUr-9ctuGamgjSwoW_KU-A.png\">\n",
    "\n",
    "Ilustración 2:\n",
    "\n",
    "<img src=\"https://cdn-images-1.medium.com/max/2000/1*_D5ZvufDS38WkhK9rK32hQ.jpeg\">\n",
    "\n",
    "\n",
    "Podemos pensar en 2 representaciones básicas de un vector:\n",
    "* Gráfica: representando un punto en el espacio\n",
    "* Lista de números : representando las coordenadas ,o compoenentes de el punto en el espacio correspondiente.\n",
    "\n",
    "<img src=\"NumPy_algebra_lineal/3d_vec.png\">\n",
    "\n",
    "En DS nos interesa mayormente la segunda representación,pero en algunos casos resulta útil utilizar la primera para poder visualizar patrones en datos que estemos analizando.\n",
    "\n",
    "<img src=\"NumPy_algebra_lineal/patron_eliptico.png\">\n",
    "\n",
    "**Nota**:Algunas operaciones no estan definidas matemáticamente  , pero NumPy las provee ya que resultan útiles en programación aún si no existen en matemática, por ejemplo: \n",
    "* Sumar un escalar a un vector.\n",
    "* Multiplicar 2 vectores elemento por elemento."
   ]
  },
  {
   "cell_type": "markdown",
   "metadata": {},
   "source": [
    "### Rango y dimensión \n",
    "\n",
    "Como dijimos , ya que vectores y matrices son Tensores, necesitamos una característica que los distinga, esto es matemáticamente el **rango** del Tensor , en el mundo de NumPy obtenemos esto al usar la característica **ndim** sobre un Tensor dado.\n",
    "\n",
    "Si pensamos en la representación gráfica podemos pensar que el rango nos indica cuantos \"ejes\" posee el espacio sobre el que se define el tensor ,y necesitamos un número por cada eje para especificar cierto vector,  desde la perspectiva de la colección de números esto nos indica cuantos indices necesitamos para especificar o acceder cierto punto.\n",
    "\n",
    "La dimensión o forma del tensor nos indica cuantos elementos este puede almacenar distribuidas en cada uno de sus \"ejes\".\n",
    "\n",
    "Para vectores, el rango  es 1 , y la dimensión es cuantos elementos el vector posee. \n",
    "\n",
    "Resumen\n",
    "* ndim = entero indicando el rango de un tensor(cuantos ejes posee)\n",
    "* shape = tupla indicando la forma(cuantos elementos posee el tensor en cada uno de sus ejes )"
   ]
  },
  {
   "cell_type": "code",
   "execution_count": 2,
   "metadata": {},
   "outputs": [
    {
     "name": "stdout",
     "output_type": "stream",
     "text": [
      "1\n",
      "(6,)\n",
      "1\n"
     ]
    }
   ],
   "source": [
    "x = np.array([1,2,3,4,5,6])\n",
    "\n",
    "print(x.ndim)\n",
    "print(x.shape)\n",
    "print(len(x.shape)) #forma de obtener el rango del tensor a partir de su dimension"
   ]
  },
  {
   "cell_type": "markdown",
   "metadata": {},
   "source": [
    "Por el momento estamos interesados en vectores, pero vale la pena ver como ndim y shape varían para una matriz."
   ]
  },
  {
   "cell_type": "code",
   "execution_count": 3,
   "metadata": {},
   "outputs": [
    {
     "name": "stdout",
     "output_type": "stream",
     "text": [
      "2\n",
      "(2, 3)\n",
      "2\n"
     ]
    }
   ],
   "source": [
    "x = np.array([[1,2,3],\n",
    "              [4,5,6]])\n",
    "\n",
    "print(x.ndim)\n",
    "print(x.shape)\n",
    "print(len(x.shape))  #forma de obtener el rango del tensor a partir de su dimension"
   ]
  },
  {
   "cell_type": "markdown",
   "metadata": {},
   "source": [
    "Tanto ndim como shape pueden ser usadas en cualquier expresión valida, por ejemplo asignarlas a variables "
   ]
  },
  {
   "cell_type": "code",
   "execution_count": 4,
   "metadata": {},
   "outputs": [
    {
     "name": "stdout",
     "output_type": "stream",
     "text": [
      "Filas de x: 2\n",
      "Columnas de x: 3\n"
     ]
    }
   ],
   "source": [
    "forma_x = x.shape\n",
    "\n",
    "print(\"Filas de x:\",forma_x[0])\n",
    "print(\"Columnas de x:\",forma_x[1])"
   ]
  },
  {
   "cell_type": "markdown",
   "metadata": {},
   "source": [
    "### Constructores de vectores\n",
    "\n",
    "NumPy provee diversas formas para crear o construir vectores, por ejemplo:\n",
    "* np.linspace\n",
    "* np.array\n",
    "* np.arange\n",
    "* np.zeros\n",
    "* np.ones\n",
    "\n",
    "Existen otras pero estas son posiblemente las mas comunes. Puedes consultar las otras disponibles en: https://docs.scipy.org/doc/numpy/reference/routines.array-creation.html"
   ]
  },
  {
   "cell_type": "code",
   "execution_count": 5,
   "metadata": {},
   "outputs": [
    {
     "data": {
      "text/plain": [
       "array([0.        , 0.10204082, 0.20408163, 0.30612245, 0.40816327,\n",
       "       0.51020408, 0.6122449 , 0.71428571, 0.81632653, 0.91836735,\n",
       "       1.02040816, 1.12244898, 1.2244898 , 1.32653061, 1.42857143,\n",
       "       1.53061224, 1.63265306, 1.73469388, 1.83673469, 1.93877551,\n",
       "       2.04081633, 2.14285714, 2.24489796, 2.34693878, 2.44897959,\n",
       "       2.55102041, 2.65306122, 2.75510204, 2.85714286, 2.95918367,\n",
       "       3.06122449, 3.16326531, 3.26530612, 3.36734694, 3.46938776,\n",
       "       3.57142857, 3.67346939, 3.7755102 , 3.87755102, 3.97959184,\n",
       "       4.08163265, 4.18367347, 4.28571429, 4.3877551 , 4.48979592,\n",
       "       4.59183673, 4.69387755, 4.79591837, 4.89795918, 5.        ])"
      ]
     },
     "execution_count": 5,
     "metadata": {},
     "output_type": "execute_result"
    }
   ],
   "source": [
    "x = np.linspace(0,5,50,endpoint=True,retstep=False\n",
    "               )\n",
    "\n",
    "x"
   ]
  },
  {
   "cell_type": "code",
   "execution_count": 6,
   "metadata": {},
   "outputs": [
    {
     "data": {
      "text/plain": [
       "array([0. , 0.1, 0.2, 0.3, 0.4, 0.5, 0.6, 0.7, 0.8, 0.9, 1. , 1.1, 1.2,\n",
       "       1.3, 1.4, 1.5, 1.6, 1.7, 1.8, 1.9, 2. , 2.1, 2.2, 2.3, 2.4, 2.5,\n",
       "       2.6, 2.7, 2.8, 2.9, 3. , 3.1, 3.2, 3.3, 3.4, 3.5, 3.6, 3.7, 3.8,\n",
       "       3.9, 4. , 4.1, 4.2, 4.3, 4.4, 4.5, 4.6, 4.7, 4.8, 4.9])"
      ]
     },
     "execution_count": 6,
     "metadata": {},
     "output_type": "execute_result"
    }
   ],
   "source": [
    "x = np.linspace(0,5,50,False,retstep=False)\n",
    "\n",
    "x"
   ]
  },
  {
   "cell_type": "code",
   "execution_count": 7,
   "metadata": {},
   "outputs": [
    {
     "name": "stdout",
     "output_type": "stream",
     "text": [
      "[0.         0.10204082 0.20408163 0.30612245 0.40816327 0.51020408\n",
      " 0.6122449  0.71428571 0.81632653 0.91836735 1.02040816 1.12244898\n",
      " 1.2244898  1.32653061 1.42857143 1.53061224 1.63265306 1.73469388\n",
      " 1.83673469 1.93877551 2.04081633 2.14285714 2.24489796 2.34693878\n",
      " 2.44897959 2.55102041 2.65306122 2.75510204 2.85714286 2.95918367\n",
      " 3.06122449 3.16326531 3.26530612 3.36734694 3.46938776 3.57142857\n",
      " 3.67346939 3.7755102  3.87755102 3.97959184 4.08163265 4.18367347\n",
      " 4.28571429 4.3877551  4.48979592 4.59183673 4.69387755 4.79591837\n",
      " 4.89795918 5.        ] 0.10204081632653061\n",
      "(50,)\n",
      "1\n"
     ]
    }
   ],
   "source": [
    "xc,dx = np.linspace(0,5,50,endpoint=True,retstep=True)\n",
    "\n",
    "print(xc,dx)\n",
    "print(xc.shape)\n",
    "print(xc.ndim)"
   ]
  },
  {
   "cell_type": "code",
   "execution_count": 8,
   "metadata": {},
   "outputs": [
    {
     "data": {
      "text/plain": [
       "array([0.  , 1.25, 2.5 , 3.75, 5.  ])"
      ]
     },
     "execution_count": 8,
     "metadata": {},
     "output_type": "execute_result"
    }
   ],
   "source": [
    "x = np.linspace(0,5,5,True)\n",
    "\n",
    "x"
   ]
  },
  {
   "cell_type": "markdown",
   "metadata": {},
   "source": [
    "**np.arange**\n",
    "Esta función es parecida a la función **range** que vimos en ciclos, pero genera un vector de NumPy que puede ser utilizdo en otras expresiones o ser asignado a variables para posterior uso.\n",
    "\n",
    "\n",
    "arange(start=0,stop,step = 1,dtype=None) \n",
    "\n",
    "Intenta determinar el tipo de datos a partir de los parametros pero se puede sobreescribir si lo especificamos con dtype"
   ]
  },
  {
   "cell_type": "code",
   "execution_count": 9,
   "metadata": {},
   "outputs": [
    {
     "data": {
      "text/plain": [
       "(array([1, 2, 3, 4, 5, 6, 7, 8, 9]), array([2., 3., 4., 5., 6., 7., 8., 9.]))"
      ]
     },
     "execution_count": 9,
     "metadata": {},
     "output_type": "execute_result"
    }
   ],
   "source": [
    "yo = np.arange(1,10)\n",
    "yoc = np.arange(2,10,dtype = float)\n",
    "\n",
    "yo,yoc"
   ]
  },
  {
   "cell_type": "markdown",
   "metadata": {},
   "source": [
    "En muchos casos es útil crear vectores inicializados con 0s o 1s ,o bien cuando no nos importa su valor inicial podemos especificar que sean creados  como vácios.\n",
    "\n",
    "Esto lo logramos con:\n",
    "* np.zeros\n",
    "* np.ones\n",
    "* np.empty"
   ]
  },
  {
   "cell_type": "code",
   "execution_count": 10,
   "metadata": {},
   "outputs": [
    {
     "data": {
      "text/plain": [
       "array([0, 0, 0, 0, 0])"
      ]
     },
     "execution_count": 10,
     "metadata": {},
     "output_type": "execute_result"
    }
   ],
   "source": [
    "np.array([0,0,0,0,0])"
   ]
  },
  {
   "cell_type": "code",
   "execution_count": 11,
   "metadata": {},
   "outputs": [
    {
     "data": {
      "text/plain": [
       "array([0., 0., 0., 0., 0.])"
      ]
     },
     "execution_count": 11,
     "metadata": {},
     "output_type": "execute_result"
    }
   ],
   "source": [
    "np.zeros(5)"
   ]
  },
  {
   "cell_type": "code",
   "execution_count": 12,
   "metadata": {},
   "outputs": [
    {
     "data": {
      "text/plain": [
       "array([1., 1., 1., 1., 1.])"
      ]
     },
     "execution_count": 12,
     "metadata": {},
     "output_type": "execute_result"
    }
   ],
   "source": [
    "np.ones(5)"
   ]
  },
  {
   "cell_type": "code",
   "execution_count": 13,
   "metadata": {},
   "outputs": [
    {
     "data": {
      "text/plain": [
       "array([1.25, 2.5 , 3.75, 5.  ])"
      ]
     },
     "execution_count": 13,
     "metadata": {},
     "output_type": "execute_result"
    }
   ],
   "source": [
    "np.empty(4)  # el valor varia, experimentemos cambiando el tipo con ndtype = <tipo>"
   ]
  },
  {
   "cell_type": "markdown",
   "metadata": {},
   "source": [
    "**Vectores a partir de datos existentes**\n",
    "Podemos también construir vectores  a partir de datos existentes(por ejempro listas de números, u otros vectores)  o bien especificar explicitamente con que valores queremos que un vector sea creado.\n",
    "\n",
    "Esto lo logramos basicamente con 2 funciones(nuevamente existen otras a explorar):\n",
    "\n",
    "* np.array\n",
    "* np.copy"
   ]
  },
  {
   "cell_type": "code",
   "execution_count": 14,
   "metadata": {},
   "outputs": [
    {
     "data": {
      "text/plain": [
       "array([2., 3., 4.])"
      ]
     },
     "execution_count": 14,
     "metadata": {},
     "output_type": "execute_result"
    }
   ],
   "source": [
    "lista = [2,3,4.0]\n",
    "\n",
    "x = np.array(lista)\n",
    "\n",
    "x "
   ]
  },
  {
   "cell_type": "code",
   "execution_count": 19,
   "metadata": {},
   "outputs": [
    {
     "data": {
      "image/png": "[encoded data removed]",
      "text/plain": [
       "<Figure size 432x288 with 1 Axes>"
      ]
     },
     "metadata": {
      "needs_background": "light"
     },
     "output_type": "display_data"
    }
   ],
   "source": [
    "import matplotlib.pyplot as plt\n",
    "\n",
    "a = np.array([1,2])\n",
    "\n",
    "plt.arrow(0,0,1,2,head_width=0.1,head_length=0.1)\n",
    "plt.xlim(-1,1.5)\n",
    "plt.ylim(-2,2.5)\n",
    "plt.show()"
   ]
  },
  {
   "cell_type": "code",
   "execution_count": 16,
   "metadata": {},
   "outputs": [
    {
     "name": "stdout",
     "output_type": "stream",
     "text": [
      "[1 2 3 4 5 6 7 8 9]\n"
     ]
    }
   ],
   "source": [
    "vector = np.array([1,2,3,4,5,6,7,8,9])\n",
    "\n",
    "print(vector)"
   ]
  },
  {
   "cell_type": "code",
   "execution_count": 17,
   "metadata": {},
   "outputs": [
    {
     "name": "stdout",
     "output_type": "stream",
     "text": [
      "[1 2 3 4 5 6 7 8 9]\n"
     ]
    }
   ],
   "source": [
    "nuevo_vector = vector.copy()\n",
    "\n",
    "print(nuevo_vector)"
   ]
  },
  {
   "cell_type": "markdown",
   "metadata": {},
   "source": [
    "El siguiente ejemplo crea una copia de un vector m cambiando(truncando) su tipo de dato a entero."
   ]
  },
  {
   "cell_type": "code",
   "execution_count": 18,
   "metadata": {},
   "outputs": [
    {
     "data": {
      "text/plain": [
       "(array([9. , 8.2, 7.4, 6.6, 5.8, 5. , 4.2, 3.4, 2.6, 1.8, 1. ]),\n",
       " array([9, 8, 7, 6, 5, 5, 4, 3, 2, 1, 1]))"
      ]
     },
     "execution_count": 18,
     "metadata": {},
     "output_type": "execute_result"
    }
   ],
   "source": [
    "m = np.linspace(9,1,11)\n",
    "\n",
    "m_int = np.array(m,dtype = int)\n",
    "\n",
    "m,m_int"
   ]
  },
  {
   "cell_type": "markdown",
   "metadata": {},
   "source": [
    "**Construir vector como otro vector**\n",
    "\n",
    "Existen algunas funiones que nos permiten crear vectores \"como\" otros vectores,es decir de la misma forma pero con posibles diferentes valores:\n"
   ]
  },
  {
   "cell_type": "code",
   "execution_count": 19,
   "metadata": {},
   "outputs": [
    {
     "name": "stdout",
     "output_type": "stream",
     "text": [
      "[1.  1.5 2.  2.5 3. ]\n",
      "[0 0 0 0 0]\n",
      "[1. 1. 1. 1. 1.]\n",
      "[6.92958945e-310 5.02034658e+175 5.44497073e-062 2.34493792e-056\n",
      " 1.17847874e-047]\n"
     ]
    }
   ],
   "source": [
    "x = np.linspace(1,3,5)\n",
    "\n",
    "ceros = np.zeros_like(x,dtype=int)\n",
    "unos = np.ones_like(x)\n",
    "vacio = np.empty_like(x)\n",
    "\n",
    "print(x)\n",
    "print(ceros)\n",
    "print(unos)\n",
    "print(vacio)"
   ]
  },
  {
   "cell_type": "markdown",
   "metadata": {},
   "source": [
    "En otros casos algunas funciones tambien devuelven un array  A de la misma forma de otro B pero con el resultado de aplicar alguna función a este, por ejemplo, el siguiente caso devuelve un nuevo vector con la forma de un vector \"x\" resultado de calcular el seno trigonoḿetrico sobre cada uno de sus elementos.:"
   ]
  },
  {
   "cell_type": "code",
   "execution_count": 20,
   "metadata": {},
   "outputs": [
    {
     "data": {
      "text/plain": [
       "array([0.84147098, 0.99749499, 0.90929743, 0.59847214, 0.14112001])"
      ]
     },
     "execution_count": 20,
     "metadata": {},
     "output_type": "execute_result"
    }
   ],
   "source": [
    "np.sin(x)\n",
    "\n"
   ]
  },
  {
   "cell_type": "markdown",
   "metadata": {},
   "source": [
    "Similar a la concatenación de listas (con +) podemos  concatenar 2 vectores y crear uno nuevo usando np.hstack((tupla))"
   ]
  },
  {
   "cell_type": "code",
   "execution_count": 21,
   "metadata": {},
   "outputs": [],
   "source": [
    "#?np.hstack"
   ]
  },
  {
   "cell_type": "code",
   "execution_count": 22,
   "metadata": {},
   "outputs": [
    {
     "data": {
      "text/plain": [
       "array([1, 2, 3, 2, 3, 4])"
      ]
     },
     "execution_count": 22,
     "metadata": {},
     "output_type": "execute_result"
    }
   ],
   "source": [
    "a = np.array((1,2,3))\n",
    "b = np.array((2,3,4))\n",
    "np.hstack((a,b))"
   ]
  },
  {
   "cell_type": "markdown",
   "metadata": {},
   "source": [
    "**ejercicio** : en data science y programación científica es común necesitar vectores con valores dentro de cierto intervalo, pero con sub-intervalos internos con diference espaciamiento ,por ejemplo:\n",
    "\n",
    "[0.  , 0.1 , 0.2 , 0.3 , 0.4 , 0.5 , 0.51, 0.52, 0.53, 0.54, 0.55,\n",
    "       0.56, 0.57, 0.58, 0.59, 0.6 , 0.7 , 0.8 , 0.9 , 1.  ]\n",
    "       \n",
    "El primer sub-intervalo incrementa de 0.1 en 0.1 , el segundo de 0.01 en 0.01 , y el tercero de 0.1 en 0.1 nuevamente.\n",
    "\n",
    "Usando unicamente NumPy crea un vector de este tipo con el nombre xs .\n",
    "\n",
    "**nota**: no es permitido usar ciclos, debe realizarse con operaciones \"vectorizadas\" de numpy"
   ]
  },
  {
   "cell_type": "code",
   "execution_count": 15,
   "metadata": {},
   "outputs": [
    {
     "data": {
      "text/plain": [
       "array([0.  , 0.1 , 0.2 , 0.3 , 0.4 , 0.5 , 0.51, 0.52, 0.53, 0.54, 0.55,\n",
       "       0.56, 0.57, 0.58, 0.59, 0.6 , 0.68, 0.76, 0.84, 0.92, 1.  ])"
      ]
     },
     "execution_count": 15,
     "metadata": {},
     "output_type": "execute_result"
    }
   ],
   "source": [
    "# tu codigo aqui (~ 5 lineas de codigo):\n",
    "a = np.linspace(0,0.5,6)\n",
    "b = np.linspace(0.51,0.59,9)\n",
    "c = np.linspace(0.6,1,6)\n",
    "xs = np.hstack((a,b,c))\n",
    "xs"
   ]
  },
  {
   "cell_type": "markdown",
   "metadata": {},
   "source": [
    "### Operaciones y Aritmetica Vectorial\n",
    "\n",
    "Utiliza los operadores aritmeticos ya conocidos +,-,*,/, %\n",
    "\n",
    "Las operaciones vectoriales básicas son:\n",
    "* Sumar 2 vectores.\n",
    "<img src=\"NumPy_algebra_lineal/suma_vec.png\">\n",
    "* Multiplicar 1 vector por un número: el efecto de esto es cambiar el tamaño del vector, es decir \"escalarlo\" y por eso en algebra lineal llamamos a un único número : **escalar**. El **span**,alcance o extención de un vector es el conjunto de todos los posibles vectores obtenidos por multiplicación escalar sobre este vector.\n",
    "<img src=\"NumPy_algebra_lineal/mult_vec.png\">\n",
    "\n",
    "<img src=\"NumPy_algebra_lineal/adicion_mult_escalar.png\">\n",
    "\n",
    "**Nota**:Algunas operaciones no estan definidas matemáticamente  , pero NumPy las provee ya que resultan útiles en programación aún si no existen en matemática, por ejemplo: \n",
    "\n",
    "* Multiplicar 2 vectores entre si\n",
    "* Sumar 1 vector con un escalar"
   ]
  },
  {
   "cell_type": "code",
   "execution_count": 24,
   "metadata": {},
   "outputs": [
    {
     "name": "stdout",
     "output_type": "stream",
     "text": [
      "[ 5 -4]\n"
     ]
    }
   ],
   "source": [
    "v = np.array([3,-5])\n",
    "w = np.array([2,1])\n",
    "\n",
    "c = v + w\n",
    "\n",
    "print(c)"
   ]
  },
  {
   "cell_type": "code",
   "execution_count": 25,
   "metadata": {},
   "outputs": [
    {
     "data": {
      "text/plain": [
       "array([  6, -10])"
      ]
     },
     "execution_count": 25,
     "metadata": {},
     "output_type": "execute_result"
    }
   ],
   "source": [
    "2*v"
   ]
  },
  {
   "cell_type": "markdown",
   "metadata": {},
   "source": [
    "Esta operacion no esta definida en linalg"
   ]
  },
  {
   "cell_type": "code",
   "execution_count": 26,
   "metadata": {},
   "outputs": [
    {
     "data": {
      "text/plain": [
       "array([  6, -10])"
      ]
     },
     "execution_count": 26,
     "metadata": {},
     "output_type": "execute_result"
    }
   ],
   "source": [
    "np.array([2,2])*v #producto haddamard (elemento a elemento)"
   ]
  },
  {
   "cell_type": "code",
   "execution_count": 27,
   "metadata": {},
   "outputs": [
    {
     "data": {
      "text/plain": [
       "array([  6, -10])"
      ]
     },
     "execution_count": 27,
     "metadata": {},
     "output_type": "execute_result"
    }
   ],
   "source": [
    "dos = np.array([2,2])\n",
    "dos*v"
   ]
  },
  {
   "cell_type": "code",
   "execution_count": 28,
   "metadata": {},
   "outputs": [
    {
     "name": "stdout",
     "output_type": "stream",
     "text": [
      "[ 1 -6]\n",
      "[ 6 -5]\n",
      "[ 1.5 -5. ]\n",
      "[1 0]\n"
     ]
    }
   ],
   "source": [
    "resta = v - w\n",
    "multiplicacion = v*w\n",
    "division = v/w\n",
    "div_mod = v%w\n",
    "\n",
    "print(resta)\n",
    "print(multiplicacion)\n",
    "print(division)\n",
    "print(div_mod)"
   ]
  },
  {
   "cell_type": "markdown",
   "metadata": {},
   "source": [
    "Los operadores +=,-=,*=,/=,%=  , también son validos en vectores con NumPy y son mas eficientes, por ejemplo:\n",
    "\n",
    "a+=b\n",
    "\n",
    "Es mas eficiente que\n",
    "\n",
    "a = a + b\n",
    "\n",
    "Por lo tanto se recomienda usarlos siempre que sea posible :"
   ]
  },
  {
   "cell_type": "code",
   "execution_count": 26,
   "metadata": {},
   "outputs": [],
   "source": [
    "a = np.array((1,2,3))\n",
    "b = np.array((2,3,4))"
   ]
  },
  {
   "cell_type": "code",
   "execution_count": 29,
   "metadata": {},
   "outputs": [],
   "source": [
    "a = a + b"
   ]
  },
  {
   "cell_type": "code",
   "execution_count": 31,
   "metadata": {},
   "outputs": [
    {
     "data": {
      "text/plain": [
       "array([11, 17, 23])"
      ]
     },
     "execution_count": 31,
     "metadata": {},
     "output_type": "execute_result"
    }
   ],
   "source": [
    "a+=b\n",
    "a"
   ]
  },
  {
   "cell_type": "markdown",
   "metadata": {},
   "source": [
    "Python utiliza un mecanismo conocido como **\"broadcasting\"** para algunas operaciones cuando el tamaño de los operandos no coincide, por ejemplo el caso de una suma entre un vector y un escalar, broadcasting \"expande\" el escalar para que tenga la misma forma que el vector (replicando el valor escalar) y luego aplica la operacion **\"elementwise\"** (elemento a elemento)"
   ]
  },
  {
   "cell_type": "code",
   "execution_count": 32,
   "metadata": {},
   "outputs": [
    {
     "data": {
      "text/plain": [
       "array([ 7, 10, 13])"
      ]
     },
     "execution_count": 32,
     "metadata": {},
     "output_type": "execute_result"
    }
   ],
   "source": [
    "a + 2 #operación no definida matemáticamente pero posible con broadcasting"
   ]
  },
  {
   "cell_type": "code",
   "execution_count": 33,
   "metadata": {},
   "outputs": [
    {
     "data": {
      "text/plain": [
       "array([0, 3, 6])"
      ]
     },
     "execution_count": 33,
     "metadata": {},
     "output_type": "execute_result"
    }
   ],
   "source": [
    "a -5 #operación no definida matemáticamente pero posible con broadcasting "
   ]
  },
  {
   "cell_type": "code",
   "execution_count": 34,
   "metadata": {},
   "outputs": [
    {
     "data": {
      "text/plain": [
       "array([15, 24, 33])"
      ]
     },
     "execution_count": 34,
     "metadata": {},
     "output_type": "execute_result"
    }
   ],
   "source": [
    "a * 3 # operación si definida matemáticamente esta \"escalando\" el vector en factor de 3"
   ]
  },
  {
   "cell_type": "code",
   "execution_count": 35,
   "metadata": {},
   "outputs": [
    {
     "data": {
      "text/plain": [
       "array([1.66666667, 2.66666667, 3.66666667])"
      ]
     },
     "execution_count": 35,
     "metadata": {},
     "output_type": "execute_result"
    }
   ],
   "source": [
    "# operacion no definida directamente pero ya que la division se reduce \n",
    "#a un producto por una fraccion, si esta definida a traves del \"escalado\"  dl vector en factor de 0.33333\n",
    "a / 3 "
   ]
  },
  {
   "cell_type": "markdown",
   "metadata": {},
   "source": [
    "**Ejemplo aplicado a DS** :  Suavizado de curvas a través de promedios de n-puntos(medias móviles):\n",
    "\n",
    "<img src=\"https://www.luisllamas.es/wp-content/uploads/2017/03/arduino-filtro-media-movil-ventana-5.png\">\n",
    "\n",
    "En el mundo la data comunmente posee \"ruido\" por lo cual muchas veces antes de hacer análisis o modelado se necesita \"suavizar\" las curvas para reducir este ruido, una técnica muy sencilla es  el suavizado por promedio de n-puntos(también llamado media móvil), esto significa que para cada punto Xn obtenemos una versión transformada(suavizada) que consiste en promediar n puntos cercanos a el, por ejemplo para n= 3 tenemos que:\n",
    "\n",
    "$$XS_{n}  =  \\frac{X_{n-1}+X_{n}+X_{n+1}}{3}$$"
   ]
  },
  {
   "cell_type": "code",
   "execution_count": 21,
   "metadata": {
    "scrolled": true
   },
   "outputs": [],
   "source": [
    "# las siguientes 3 lineas generan un conjunto de datos que se comportan segun una onda senoidal pero tienen\n",
    "# ruido por lo cual vamos a suavizar usando promedio de 3 puntos\n",
    "# en este ejercicio los generamos manualmente pero pensemos que son datos que pudieron ser generados con algún\n",
    "# instrumento como un sensor, o bien estar almacenados en una base de datos\n",
    "sample_points = 10000\n",
    "ruido = 0.5*np.random.randn(sample_points) #el ruido comunmente se debe a aleatoriedad o captura no exacta de info.\n",
    "x = np.linspace(0,5*np.pi,sample_points) \n",
    "y = np.sin(x) + ruido\n",
    "\n",
    "#xs es \"x suavizado\", inicialmente es una copia de x\n",
    "ys =  y.copy()\n",
    "\n",
    "for n in range(1,len(y)-1):\n",
    "    ys[n] = (y[n-1] + y[n] + y[n+1])/3\n",
    "    \n",
    "#print(y)\n",
    "#print(ys)"
   ]
  },
  {
   "cell_type": "code",
   "execution_count": 22,
   "metadata": {},
   "outputs": [
    {
     "data": {
      "image/png": "[encoded data removed]",
      "text/plain": [
       "<Figure size 432x288 with 1 Axes>"
      ]
     },
     "metadata": {
      "needs_background": "light"
     },
     "output_type": "display_data"
    }
   ],
   "source": [
    "plt.plot(x,y)\n",
    "plt.plot(x,ys)\n",
    "plt.xlim(0,5*np.pi + 0.5)\n",
    "plt.show()"
   ]
  },
  {
   "cell_type": "markdown",
   "metadata": {},
   "source": [
    "**Ejercicio (parte de tarea)** En este caso usamos un ciclo  para ejemplificar pero ya hemos mencionado que debemos evitarlos siempre que sea posible y usar operaciones \"vectorizadas\" ya que es mucho mas rápido al utilizar  código pre-compilado de C, en este ejercicio debemos remplazar el calculo de ys para hacerlo de manera \"vectorizada\" y eliminar el ciclo for. \n",
    "\n",
    "**tip**: usar slicing"
   ]
  },
  {
   "cell_type": "code",
   "execution_count": 73,
   "metadata": {},
   "outputs": [
    {
     "data": {
      "image/png": "[encoded data removed]",
      "text/plain": [
       "<Figure size 432x288 with 1 Axes>"
      ]
     },
     "metadata": {
      "needs_background": "light"
     },
     "output_type": "display_data"
    }
   ],
   "source": [
    "sample_points = 10000\n",
    "ruido = 0.5*np.random.randn(sample_points) #el ruido comunmente se debe a aleatoriedad o captura no exacta de info.\n",
    "x = np.linspace(0,5*np.pi,sample_points) \n",
    "y = np.sin(x) + ruido\n",
    "\n",
    "#xs es \"x suavizado\", inicialmente es una copia de x\n",
    "\n",
    "#vectores temporales utilizados para la suma\n",
    "y1 = y[0:-2] \n",
    "y2 = y[1:-1]\n",
    "y3 = y[2:]\n",
    "\n",
    "ys = (y1 + y2 + y3)/3\n",
    "ys = np.hstack((y[0] , ys , y[-1])) #se concatena el valor inicial y final del arreglo \"y\" ya que fueron excluidos en la suma\n",
    "\n",
    "plt.plot(x,y)\n",
    "plt.plot(x,ys)\n",
    "plt.xlim(0,5*np.pi + 0.5)\n",
    "plt.show()"
   ]
  },
  {
   "cell_type": "markdown",
   "metadata": {},
   "source": [
    "#### Combinaciones lineales,span,vectores base,espacio vectorial e independencia lineal.\n",
    "\n",
    "**Nota**: esta sección es de cierto relevante a futuro  ya que no es tan importante para este curso,pero lo será para futuros cursos y en tu carrera, por ejemplo en machine learning y estadística la reducción de dimensionalidad PCA se basa en el contenido acá resumido.\n",
    "\n",
    "Derivado de las 2 operaciones básicas de algebra lineal que ya mencionamos: suma de 2 vectores y multiplicación de un escalar por un vector podemos hablar de **combinaciones lineales**\n",
    "\n",
    "* **Combinación lineal** : Una combinación lineal es una generalización que combina estas 2 operaciones básicas y la podemos definir como **la suma de 2 o mas vectores escalados** , \n",
    "\n",
    "<img src=\"NumPy_algebra_lineal/combinacion_base.png\">\n",
    "\n",
    "Combinación lineal\n",
    "\n",
    "<img src=\"NumPy_algebra_lineal/combinacion_lineal.png\">\n",
    "\n",
    "* El **span**(alceance, o extensión) de una combinacion lineal es el conjunto de todos los posibles vectores obtenidos para cada posible combinación de sus valores escalares.\n",
    "\n",
    "\n",
    "<img src=\"NumPy_algebra_lineal/span.png\">\n",
    "\n",
    "<img src=\"NumPy_algebra_lineal/3d_span.png\">\n",
    "\n",
    "* **Independencia Lineal** : si un vector A es un múltiplo de otro vector B, decimos que existe dependencia lineal entre ellos, geométricamente el efecto de esto es que el **span** de estos  es el mismo, o bien si se trata de combinaciones lineales, el agregar un vector dependientemente lineal significa que este puede ser obtenido como una combinación de los otros en la combinación ,esto no modifica el **span** de la combinación, por lo cual es redundante y no aporta nada.\n",
    "\n",
    "<img src=\"NumPy_algebra_lineal/dependencia_lineal.png\">\n",
    "\n",
    "<img src=\"NumPy_algebra_lineal/dependencia_lineal2.png\">\n",
    "\n",
    "**Referencia Util**:\n",
    "https://youtu.be/k7RM-ot2NWY?list=PLZHQObOWTQDPD3MizzM2xVFitgF8hE_ab"
   ]
  },
  {
   "cell_type": "markdown",
   "metadata": {},
   "source": [
    "### ufuncs(universal functions)\n",
    "\n",
    "Ufuncs son funciones que trabajan de manera general independiente de la dimension del objeto al que sean aplicadas, esto significa que la misma función puede ser utilizada sobre valores **escalares**  o sobre **tensores** de cualquier dimensión. , cuando es aplicada sobre tensores esta trabaja elemento por elemento soportando \"broadcasting\" .\n",
    "\n",
    "NumPy provee una gran colección de ufuncs comunes en ciencias y que serán muy útiles en data science, ya hemos usado algunas por ejemplo: **np.sin(tensor)** , muchas comunes y que te serán familares son:\n",
    "\n",
    "* np.sign: determinar el signo de un número\n",
    "* np.abs: valor absoluto de un número\n",
    "* np.cos: coseno de un angulo en radianes\n",
    "* np.sin : seno de un angulo en radianes\n",
    "* np.tan : tangente de un angulo en radianes\n",
    "* np.exp : función exponencial e** x\n",
    "* np.log: logaritmo natural\n",
    "* np.log10 : logaritmo base 10\n",
    "* np.log2 : logaritmo base 2\n",
    "* np.sqrt : raiz cuadrada\n",
    "* np.power : potenciacion\n",
    "\n",
    "Al trabajar una aplicación numérica/científica es recomendable tener a la mano la documentación de las funciones disponibles : https://docs.scipy.org/doc/numpy-1.15.1/reference/routines.math.html\n",
    "\n",
    "#### Nota: \n",
    "En algunos casos requeriremos crear nuestras propias funciones y es recomendable que se apeguen a las ufuncs, es decir que se puedan aplicar independiente de la dimensión del objeto al que se aplican, que soporten broadcasting y muy importante **que su definición evite ciclos y use operaciones vectorizadas y otras ufuncs** , esto será parte de los criterios de evaluación en tareas y exámenes en este curso."
   ]
  },
  {
   "cell_type": "code",
   "execution_count": 38,
   "metadata": {},
   "outputs": [
    {
     "name": "stdout",
     "output_type": "stream",
     "text": [
      "[-1. -1.  0.  1.  1.  1.]\n",
      "[  5.3   1.    0.    1.5  10.  100. ]\n",
      "[ 0.55437434  0.54030231  1.          0.0707372  -0.83907153  0.86231887]\n",
      "[ 0.83226744 -0.84147098  0.          0.99749499 -0.54402111 -0.50636564]\n",
      "[ 1.5012734  -1.55740772  0.         14.10141995  0.64836083 -0.58721392]\n",
      "[4.99159391e-03 3.67879441e-01 1.00000000e+00 4.48168907e+00\n",
      " 2.20264658e+04 2.68811714e+43]\n"
     ]
    }
   ],
   "source": [
    "x = np.array([-5.3,-1,0,1.5,10,100])\n",
    "\n",
    "print(np.sign(x))\n",
    "print(np.abs(x))\n",
    "print(np.cos(x))\n",
    "print(np.sin(x))\n",
    "print(np.tan(x))\n",
    "print(np.exp(x))\n"
   ]
  },
  {
   "cell_type": "code",
   "execution_count": 39,
   "metadata": {},
   "outputs": [
    {
     "name": "stdout",
     "output_type": "stream",
     "text": [
      "[       nan        nan       -inf 0.40546511 2.30258509 4.60517019]\n"
     ]
    },
    {
     "name": "stderr",
     "output_type": "stream",
     "text": [
      "/home/luis/anaconda2/envs/galileo_python/lib/python3.7/site-packages/ipykernel_launcher.py:1: RuntimeWarning: divide by zero encountered in log\n",
      "  \"\"\"Entry point for launching an IPython kernel.\n",
      "/home/luis/anaconda2/envs/galileo_python/lib/python3.7/site-packages/ipykernel_launcher.py:1: RuntimeWarning: invalid value encountered in log\n",
      "  \"\"\"Entry point for launching an IPython kernel.\n"
     ]
    }
   ],
   "source": [
    "print(np.log(x))"
   ]
  },
  {
   "cell_type": "code",
   "execution_count": 40,
   "metadata": {},
   "outputs": [
    {
     "data": {
      "text/plain": [
       "0.09999999999999964"
      ]
     },
     "execution_count": 40,
     "metadata": {},
     "output_type": "execute_result"
    }
   ],
   "source": [
    "10.1 - 10"
   ]
  },
  {
   "cell_type": "code",
   "execution_count": 41,
   "metadata": {},
   "outputs": [
    {
     "name": "stdout",
     "output_type": "stream",
     "text": [
      "[       nan        nan       -inf 0.17609126 1.         2.        ]\n"
     ]
    },
    {
     "name": "stderr",
     "output_type": "stream",
     "text": [
      "/home/luis/anaconda2/envs/galileo_python/lib/python3.7/site-packages/ipykernel_launcher.py:1: RuntimeWarning: divide by zero encountered in log10\n",
      "  \"\"\"Entry point for launching an IPython kernel.\n",
      "/home/luis/anaconda2/envs/galileo_python/lib/python3.7/site-packages/ipykernel_launcher.py:1: RuntimeWarning: invalid value encountered in log10\n",
      "  \"\"\"Entry point for launching an IPython kernel.\n"
     ]
    }
   ],
   "source": [
    "print(np.log10(x))\n"
   ]
  },
  {
   "cell_type": "code",
   "execution_count": 42,
   "metadata": {},
   "outputs": [
    {
     "name": "stdout",
     "output_type": "stream",
     "text": [
      "[       nan        nan       -inf 0.5849625  3.32192809 6.64385619]\n"
     ]
    },
    {
     "name": "stderr",
     "output_type": "stream",
     "text": [
      "/home/luis/anaconda2/envs/galileo_python/lib/python3.7/site-packages/ipykernel_launcher.py:1: RuntimeWarning: divide by zero encountered in log2\n",
      "  \"\"\"Entry point for launching an IPython kernel.\n",
      "/home/luis/anaconda2/envs/galileo_python/lib/python3.7/site-packages/ipykernel_launcher.py:1: RuntimeWarning: invalid value encountered in log2\n",
      "  \"\"\"Entry point for launching an IPython kernel.\n"
     ]
    }
   ],
   "source": [
    "print(np.log2(x))"
   ]
  },
  {
   "cell_type": "code",
   "execution_count": 43,
   "metadata": {},
   "outputs": [
    {
     "name": "stdout",
     "output_type": "stream",
     "text": [
      "[        nan         nan  0.          1.22474487  3.16227766 10.        ]\n"
     ]
    },
    {
     "name": "stderr",
     "output_type": "stream",
     "text": [
      "/home/luis/anaconda2/envs/galileo_python/lib/python3.7/site-packages/ipykernel_launcher.py:1: RuntimeWarning: invalid value encountered in sqrt\n",
      "  \"\"\"Entry point for launching an IPython kernel.\n"
     ]
    }
   ],
   "source": [
    "print(np.sqrt(x))"
   ]
  },
  {
   "cell_type": "code",
   "execution_count": 44,
   "metadata": {},
   "outputs": [
    {
     "name": "stdout",
     "output_type": "stream",
     "text": [
      "[2.809e+01 1.000e+00 0.000e+00 2.250e+00 1.000e+02 1.000e+04]\n"
     ]
    }
   ],
   "source": [
    "print(np.power(x,2))"
   ]
  },
  {
   "cell_type": "markdown",
   "metadata": {},
   "source": [
    "#### Nota: \n",
    "En algunos casos requeriremos crear nuestras propias funciones y es recomendable que se apeguen a las ufuncs, es decir que se puedan aplicar independiente de la dimensión del objeto al que se aplican, que soporten broadcasting y muy importante **que su definición evite ciclos y use operaciones vectorizadas y otras ufuncs** , esto será parte de los criterios de evaluación en tareas y exámenes en este curso."
   ]
  },
  {
   "cell_type": "markdown",
   "metadata": {},
   "source": [
    "#### Ejemplos en DS:\n",
    "\n",
    "**1)**\n",
    "En machine learning se necesita una manera de \"evaluar\" nuestros modelos ,en ML del tipo \"supervisado\" para modelos de variables discretas categóricas  usamos  para esto  la \"entropía cruzada\" que mide la diferencia  entre 2 distribuciones de probabilidad,la que nuestro modelo predice vs la real obtenida de datos **ground truth** , una entropía cruzada alta es un modelo de ML malo y una entropía cruzada de 0 es un modelo de ML perfecto.\n",
    "\n",
    "La entropía medida en bits(ojo,no cruzada, solo entropía) se define como \"el promedio de información\"(promedio ponderado) y la información se define se define como el negativo del logaritmo base 2 de la probabilidad . \n",
    "\n",
    "$$I(x) = -log_{2}P(x)$$\n",
    "\n",
    "**Comentario**:La entropía es una medida de \"incerteza\", si un evento puede producir muchos resultados diferentes entonces tenemos una alta incerteza del evento lo cual se traduce a entropía alta.\n",
    "\n",
    "La siguiente función calcula para cierta distribución de probabilidad dada por un vector px la información de cada elemento."
   ]
  },
  {
   "cell_type": "code",
   "execution_count": 45,
   "metadata": {},
   "outputs": [
    {
     "name": "stdout",
     "output_type": "stream",
     "text": [
      "[-0.]\n",
      "[1. 1.]\n",
      "[-0. inf]\n",
      "[0.00014428]\n",
      "[2.        0.4150375]\n",
      "[2.32192809 2.32192809 2.32192809 2.32192809 2.32192809]\n",
      "[1.32192809 2.32192809 3.32192809 3.32192809 2.32192809]\n"
     ]
    },
    {
     "name": "stderr",
     "output_type": "stream",
     "text": [
      "/home/luis/anaconda2/envs/galileo_python/lib/python3.7/site-packages/ipykernel_launcher.py:2: RuntimeWarning: divide by zero encountered in log2\n",
      "  \n"
     ]
    }
   ],
   "source": [
    "def calcular_informacion(px):\n",
    "    return np.log2(px)*-1\n",
    "\n",
    "distribucion_prob1 = [1.0]\n",
    "distribucion_prob2 = [0.5,0.5] # la entropia es maxima cuando todos tienen la misma prob\n",
    "distribucion_prob3 = [1.0,0.0]\n",
    "distribucion_prob4 = [0.9999]\n",
    "distribucion_prob5 = [0.25,0.75]\n",
    "distribucion_prob6 = [0.2]*5 # ojo estas son listas por lo tanto * la replica, no son arrays de numpy\n",
    "distribucion_prob7 = [0.4,0.2,0.1,0.1,0.2]\n",
    "\n",
    "print(calcular_informacion(distribucion_prob1))\n",
    "print(calcular_informacion(distribucion_prob2))\n",
    "print(calcular_informacion(distribucion_prob3))\n",
    "print(calcular_informacion(distribucion_prob4))\n",
    "print(calcular_informacion(distribucion_prob5))\n",
    "print(calcular_informacion(distribucion_prob6))\n",
    "print(calcular_informacion(distribucion_prob7))"
   ]
  },
  {
   "cell_type": "markdown",
   "metadata": {},
   "source": [
    "**Ejercicio** Para calcular la información de una distribución de probabilidad necesitamos calcular el producto entre la información de cada posible x y su probabilidad , cada uno de estos elementos nos indica cuanta incerteza aporta cada x a la entropía de la distribución. Crea una función que calcule esto, debe recibir un vector representando a la dist. de probabilidad y devoler otro vector con el termino de entropía para cada x. Por ejemplo:\n",
    "\n",
    "calcular_entropia([0.25,0.75])\n",
    "\n",
    "Debe resultar en :\n",
    "\n",
    "[0.5    ,    0.31127812]\n",
    "\n",
    "**Nota**: la entropía es la suma sobre estos valores, en este caso no calculamos la entropía,unicamente los termimos de su sumatoria. La entropía es:\n",
    "\n",
    "$$S = -\\sum_i^nP(x_{i})log_{2}P(x_{i})$$"
   ]
  },
  {
   "cell_type": "code",
   "execution_count": 76,
   "metadata": {},
   "outputs": [
    {
     "data": {
      "text/plain": [
       "array([0.5       , 0.31127812])"
      ]
     },
     "execution_count": 76,
     "metadata": {},
     "output_type": "execute_result"
    }
   ],
   "source": [
    "# tu codigo aqui (~ 4 lineas de codigo)\n",
    "def calcular_entropia(px):\n",
    "    return px*np.log2(px)*-1\n",
    "\n",
    "calcular_entropia([0.25,0.75])\n"
   ]
  },
  {
   "cell_type": "markdown",
   "metadata": {},
   "source": [
    "**2)** \n",
    "\n",
    "A partir de la información en un data warehouse con un modelo de  datos el valor de clientes en el tiempo se ha determinado un modelo predictivo  no lineal que estima cuanta ganancia ha generado cierto cliente en 5 años en base a lo que ha gastado en su primer mes como cliente. \n",
    "\n",
    "El modelo tiene la forma:\n",
    "\n",
    "$$g(x) = (x^{3} + 2x^{2} + e^{0.0001x} -\\sqrt{2x})/50$$\n",
    "\n",
    "Crear una función que calcule la ganancia para valores de gasto de nuevos clientes:"
   ]
  },
  {
   "cell_type": "code",
   "execution_count": 47,
   "metadata": {},
   "outputs": [
    {
     "name": "stdout",
     "output_type": "stream",
     "text": [
      "Ganancias [20399.73735829  2599.82010025   337.37862871 20399.73735829]\n"
     ]
    }
   ],
   "source": [
    "def g(x):\n",
    "    \n",
    "    ganancia = (np.power(x,3) + 2.0*(np.power(x,2.0))+np.exp(0.0001*x) - np.sqrt(2.0*x))/50\n",
    "    \n",
    "    return ganancia\n",
    "    \n",
    "gastos = np.array([100,50,25,100])\n",
    "ganancia = g(gastos)\n",
    "\n",
    "print(\"Ganancias\",ganancia)"
   ]
  },
  {
   "cell_type": "markdown",
   "metadata": {},
   "source": [
    "**Ejercicio** : se ha determinado también que hay costos asociados a la comunicación y relación con los clientes(llamadas,mensajes electrónicos,etc) y que estos también tienen alta correlación con el monto que estos gastan en su primer més siguiendo el modelo:\n",
    "$$c(x) = (x^{2} + x + log (0.0001x)-\\sqrt{0.54x})/100$$\n",
    "\n",
    "Cree una función para calcular este modelo sobre valores de de gasto de nuevos clientes , y luego cree una función  **ganancia_neta(x,g,c)** donde:\n",
    "* x = vector conteniendo los valores de gasto del primer mes para nuevos clientes.\n",
    "* g = función que estima la ganancia en función de x\n",
    "* c = función que estima el costo en función de x\n",
    "\n",
    "La función realiza el calculo simple **g(x) - c(x)** , ya que es posible que los modelos cambien en el tiempo es común recibir como parámetro el modelo o modelos hijos de un modelo mas grande , en este caso eso se logra recibiendo como parámetro las funciones de ganancia y costo."
   ]
  },
  {
   "cell_type": "code",
   "execution_count": 85,
   "metadata": {},
   "outputs": [
    {
     "name": "stdout",
     "output_type": "stream",
     "text": [
      "Ganancia Neta: [20298.85689469  2574.42504495   330.9752857  20298.85689469]\n"
     ]
    }
   ],
   "source": [
    "def c(x):\n",
    "    costo = (np.power(x,2) + x +np.log(0.0001*x) - np.sqrt(0.54*x))/100\n",
    "    return costo\n",
    "\n",
    "def ganancia_neta(x,g,c):\n",
    "    return g(x)-c(x)\n",
    "\n",
    "print(\"Ganancia Neta:\",ganancia_neta(gastos,g,c))"
   ]
  },
  {
   "cell_type": "markdown",
   "metadata": {},
   "source": [
    "### Funciones miscelaneas(agregación y estadistica descriptiva básica) \n",
    "\n",
    "Ya hemos trabajado algunas funciones de NumPy pero han sido funciones \"elementwise\" cuyo vector resultante tiene el mismo tamaño que el vector de entrada, existen muchas otras funciones que utilizamos en casos en los que necesitamos agregar,resumir cierto vector,incluyendo en este tipo de funciones algunas de estadistica descriptiva básica."
   ]
  },
  {
   "cell_type": "code",
   "execution_count": 48,
   "metadata": {},
   "outputs": [],
   "source": [
    "x = np.array([1,2,3,4,5,6,7,8,9,2,2])\n",
    "x_nan = np.array([1,2,3,4,np.nan,6,8,2,2])"
   ]
  },
  {
   "cell_type": "code",
   "execution_count": 49,
   "metadata": {},
   "outputs": [
    {
     "name": "stdout",
     "output_type": "stream",
     "text": [
      "9\n",
      "9\n",
      "nan\n",
      "9\n",
      "8.0\n"
     ]
    },
    {
     "name": "stderr",
     "output_type": "stream",
     "text": [
      "/home/luis/anaconda2/envs/galileo_python/lib/python3.7/site-packages/numpy/core/fromnumeric.py:83: RuntimeWarning: invalid value encountered in reduce\n",
      "  return ufunc.reduce(obj, axis, dtype, out, **passkwargs)\n"
     ]
    }
   ],
   "source": [
    "#nanmax ignora valores nan si existieran , max retorna nan si el vector tuviera un nan\n",
    "\n",
    "\n",
    "print(np.max(x))\n",
    "print(x.max())\n",
    "print(np.max(x_nan))\n",
    "\n",
    "print(np.nanmax(x))\n",
    "print(np.nanmax(x_nan))"
   ]
  },
  {
   "cell_type": "code",
   "execution_count": 50,
   "metadata": {},
   "outputs": [
    {
     "name": "stdout",
     "output_type": "stream",
     "text": [
      "8\n",
      "8\n"
     ]
    }
   ],
   "source": [
    "print(np.argmax(x))\n",
    "print(x.argmax())"
   ]
  },
  {
   "cell_type": "code",
   "execution_count": 51,
   "metadata": {},
   "outputs": [
    {
     "name": "stdout",
     "output_type": "stream",
     "text": [
      "1\n",
      "1\n",
      "nan\n",
      "1\n",
      "1.0\n"
     ]
    }
   ],
   "source": [
    "print(np.min(x))\n",
    "print(x.min())\n",
    "print(np.min(x_nan))\n",
    "\n",
    "print(np.nanmin(x))\n",
    "print(np.nanmin(x_nan))"
   ]
  },
  {
   "cell_type": "code",
   "execution_count": 52,
   "metadata": {},
   "outputs": [
    {
     "name": "stdout",
     "output_type": "stream",
     "text": [
      "0\n",
      "1\n"
     ]
    }
   ],
   "source": [
    "print(np.argmin(x))\n",
    "print(x.min())"
   ]
  },
  {
   "cell_type": "code",
   "execution_count": 53,
   "metadata": {},
   "outputs": [
    {
     "name": "stdout",
     "output_type": "stream",
     "text": [
      "49\n",
      "49\n",
      "nan\n"
     ]
    }
   ],
   "source": [
    "print(np.sum(x))\n",
    "print(x.sum())\n",
    "print(np.sum(x_nan))"
   ]
  },
  {
   "cell_type": "code",
   "execution_count": 54,
   "metadata": {},
   "outputs": [
    {
     "name": "stdout",
     "output_type": "stream",
     "text": [
      "1451520\n",
      "1451520\n",
      "nan\n"
     ]
    }
   ],
   "source": [
    "print(np.prod(x))\n",
    "print(x.prod())\n",
    "print(np.prod(x_nan))"
   ]
  },
  {
   "cell_type": "markdown",
   "metadata": {},
   "source": [
    "#### Aritmetica acumulativa\n",
    "\n",
    "En muchos casos es útil usar sumas o productos acumulativos , por ejemplo:\n",
    "\n",
    "**Ejemplo aplicado** En un datawarehouse se tiene un modelo \"lifetime value\" en el que se almacena de manera acumulativa cuantas ganancias se han percibido a lo largo de la vida de los usuarios, un ETL en Python debe calcularlo en función de un vector que contiene de manera ordenada en el tiempo los ingresos percibidos mensualmente para cierto usuario. Podemos usar la funcion **np.cumsum** para esto, en este ejercicio necesitamos determinar el \"lifetime value\" de cierto usuario en su 6to mes:\n"
   ]
  },
  {
   "cell_type": "code",
   "execution_count": 89,
   "metadata": {},
   "outputs": [
    {
     "name": "stdout",
     "output_type": "stream",
     "text": [
      "Lifetime value: [ 25 175 300 375 475 520 542 572]\n",
      "El valor del usuario a su sexto mes es : 520\n"
     ]
    }
   ],
   "source": [
    "def lifetime_value(ganancias_mensuales):\n",
    "    return np.cumsum(ganancias_mensuales)\n",
    "\n",
    "# Prueba:\n",
    "ganancias_usuario = np.array([25,150,125,75,100,45,22,30])\n",
    "lifetime_value_usuario = lifetime_value(ganancias_usuario)\n",
    "\n",
    "print(\"Lifetime value:\",lifetime_value_usuario)\n",
    "\n",
    "print(\"El valor del usuario a su sexto mes es :\",lifetime_value_usuario[5])"
   ]
  },
  {
   "cell_type": "markdown",
   "metadata": {},
   "source": [
    "Poseemos también la funcióm similar **np.cumprod** que multiplica de manera acumulativa los elementos de un vector."
   ]
  },
  {
   "cell_type": "code",
   "execution_count": 90,
   "metadata": {},
   "outputs": [
    {
     "name": "stdout",
     "output_type": "stream",
     "text": [
      "[        25       3750     468750   35156250 -779342296 -710664952\n",
      " 1545240240 -887433056]\n"
     ]
    }
   ],
   "source": [
    "print(np.cumprod(ganancias_usuario))"
   ]
  },
  {
   "cell_type": "markdown",
   "metadata": {},
   "source": [
    "#### Estadística descriptiva\n",
    "\n",
    "https://docs.scipy.org/doc/numpy-1.15.0/reference/routines.statistics.html"
   ]
  },
  {
   "cell_type": "code",
   "execution_count": 95,
   "metadata": {},
   "outputs": [
    {
     "name": "stdout",
     "output_type": "stream",
     "text": [
      "7.853981633974484\n"
     ]
    },
    {
     "ename": "NameError",
     "evalue": "name 'x_nan' is not defined",
     "output_type": "error",
     "traceback": [
      "\u001b[1;31m---------------------------------------------------------------------------\u001b[0m",
      "\u001b[1;31mNameError\u001b[0m                                 Traceback (most recent call last)",
      "\u001b[1;32m<ipython-input-95-77f1bcc3252a>\u001b[0m in \u001b[0;36m<module>\u001b[1;34m\u001b[0m\n\u001b[0;32m      1\u001b[0m \u001b[0mprint\u001b[0m\u001b[1;33m(\u001b[0m\u001b[0mnp\u001b[0m\u001b[1;33m.\u001b[0m\u001b[0mmean\u001b[0m\u001b[1;33m(\u001b[0m\u001b[0mx\u001b[0m\u001b[1;33m)\u001b[0m\u001b[1;33m)\u001b[0m\u001b[1;33m\u001b[0m\u001b[1;33m\u001b[0m\u001b[0m\n\u001b[1;32m----> 2\u001b[1;33m \u001b[0mprint\u001b[0m\u001b[1;33m(\u001b[0m\u001b[0mx_nan\u001b[0m\u001b[1;33m.\u001b[0m\u001b[0mmean\u001b[0m\u001b[1;33m(\u001b[0m\u001b[1;33m)\u001b[0m\u001b[1;33m)\u001b[0m\u001b[1;33m\u001b[0m\u001b[1;33m\u001b[0m\u001b[0m\n\u001b[0m",
      "\u001b[1;31mNameError\u001b[0m: name 'x_nan' is not defined"
     ]
    }
   ],
   "source": [
    "print(np.mean(x))\n",
    "print(x_nan.mean())"
   ]
  },
  {
   "cell_type": "code",
   "execution_count": 96,
   "metadata": {},
   "outputs": [
    {
     "name": "stdout",
     "output_type": "stream",
     "text": [
      "7.853981633974483\n"
     ]
    },
    {
     "ename": "NameError",
     "evalue": "name 'x_nan' is not defined",
     "output_type": "error",
     "traceback": [
      "\u001b[1;31m---------------------------------------------------------------------------\u001b[0m",
      "\u001b[1;31mNameError\u001b[0m                                 Traceback (most recent call last)",
      "\u001b[1;32m<ipython-input-96-4a0d4fe2bf89>\u001b[0m in \u001b[0;36m<module>\u001b[1;34m\u001b[0m\n\u001b[0;32m      1\u001b[0m \u001b[0mprint\u001b[0m\u001b[1;33m(\u001b[0m\u001b[0mnp\u001b[0m\u001b[1;33m.\u001b[0m\u001b[0mmedian\u001b[0m\u001b[1;33m(\u001b[0m\u001b[0mx\u001b[0m\u001b[1;33m)\u001b[0m\u001b[1;33m)\u001b[0m\u001b[1;33m\u001b[0m\u001b[1;33m\u001b[0m\u001b[0m\n\u001b[1;32m----> 2\u001b[1;33m \u001b[0mprint\u001b[0m\u001b[1;33m(\u001b[0m\u001b[0mnp\u001b[0m\u001b[1;33m.\u001b[0m\u001b[0mmedian\u001b[0m\u001b[1;33m(\u001b[0m\u001b[0mx_nan\u001b[0m\u001b[1;33m)\u001b[0m\u001b[1;33m)\u001b[0m\u001b[1;33m\u001b[0m\u001b[1;33m\u001b[0m\u001b[0m\n\u001b[0m",
      "\u001b[1;31mNameError\u001b[0m: name 'x_nan' is not defined"
     ]
    }
   ],
   "source": [
    "print(np.median(x))\n",
    "print(np.median(x_nan))"
   ]
  },
  {
   "cell_type": "code",
   "execution_count": null,
   "metadata": {},
   "outputs": [],
   "source": [
    "print(x.std())\n",
    "print(np.std(x))"
   ]
  },
  {
   "cell_type": "code",
   "execution_count": null,
   "metadata": {},
   "outputs": [],
   "source": [
    "print(x.var())\n",
    "print(np.var(x))"
   ]
  },
  {
   "cell_type": "markdown",
   "metadata": {},
   "source": [
    "**Ejercicio** Usando argmax crear una función mode(x) para calcular la moda de un vector x , esta función debe devolver una tupla de 2 elementos de la forma:\n",
    "\n",
    "(valor,conteo)\n",
    "\n",
    "**tip** investigar y auxiliarse de otras funciones de numpy y np.argmax, no olvidar trabajar todo vectorizado, sin ciclos."
   ]
  },
  {
   "cell_type": "code",
   "execution_count": 109,
   "metadata": {},
   "outputs": [
    {
     "name": "stdout",
     "output_type": "stream",
     "text": [
      "(2, 3)\n"
     ]
    }
   ],
   "source": [
    "def mode(x):\n",
    "    valores, conteos = np.unique(x,return_counts=True)\n",
    "    indice = np.argmax(conteos)\n",
    "    return valores[indice],conteos[indice]\n",
    "\n",
    "x = np.array([1,2,3,4,5,6,7,8,9,2,2])\n",
    "print(mode(x))"
   ]
  },
  {
   "cell_type": "markdown",
   "metadata": {},
   "source": [
    "**Ejercicio** : crear una función para calcular la entropía  de una distribución de probabilidad representada como un vector.\n",
    "$$S = -\\sum_i^nP(x_{i})log_{2}P(x_{i})$$\n",
    "\n",
    "**Nota**: a diferencia del ejercicio anterior donde solo calculamos los términos de la entropía, en este caso  si calculamos el valor completo de la entropía, que como mencionamos es una medida de incerteza en una distribución de probabilidad.\n",
    "\n",
    "**recordatorio**: no usar ciclos solo operaciones vectorizadas."
   ]
  },
  {
   "cell_type": "code",
   "execution_count": 110,
   "metadata": {},
   "outputs": [
    {
     "data": {
      "text/plain": [
       "0.8112781244591328"
      ]
     },
     "execution_count": 110,
     "metadata": {},
     "output_type": "execute_result"
    }
   ],
   "source": [
    "def calcular_entropia(px):\n",
    "    return np.sum(px*np.log2(px)*-1)\n",
    "\n",
    "calcular_entropia([0.25,0.75])"
   ]
  },
  {
   "cell_type": "markdown",
   "metadata": {},
   "source": [
    "**Ejercicio**: En ML usamos la entropía cruzada como una forma de medir que tan bueno es un modelo de variables discretas a través de comparar la distribución de probabilidad que el modelo produce o predice, vs la distribución de probabilidad real dada por los datos de entrenamiento.\n",
    "\n",
    "Podemos ver el siguiente ejemplo que define la forma en que se calcula la entropía cruzada y nos muestra un caso específico:\n",
    "\n",
    "<img src=\"https://image.slidesharecdn.com/publishintroductiontodeeplearninginpythonandmatlab1-160502102437/95/introduction-to-deep-learning-in-python-and-matlab-54-638.jpg?cb=1462185644\">\n",
    "\n",
    "En este caso interpretamos así: El problema consiste en un modelo o algoritmo de ML que debe producir un vector de 3 elementos indicando la probabilidad de que ciertos datos X pertenezcan a una de 3 categorías.\n",
    "\n",
    "* El modelo de ML produce un vector que indica que estima un 70% de probabilidad de que se trate de la categoría 0, 20% de probabilidad de que se trate de la categoría 1 y 10% de que se trate de la categoría 2.\n",
    "* Los datos reales nos dicen que se trataba de un caso donde con total certeza se sabe que se trata de la categoría 0\n",
    "* La entropía cruzada(a calcular en el ejercicio) nos indica que tan buena es la estimación del modelo, una EC de 0 es un modelo perfecto(en este caso un modelo que predice 100% de prob para la clase 0)\n",
    "\n",
    "**Nota** \n",
    "* Aun que para calcular la entropía usamos logaritmos en base 2, en ML para calcular la entropía cruzada se usa logaritmo natural ya que con este se cumple el proposito **estimar que tanto se alejan las predicciones del modelo de ML de los datos reales** y es comunmente mas rápido de calcular en la computadora.\n",
    "* Ya que estamos trabajando con vectores que representan distribuciones de probabilidad , podemos toparnos con lo que se conoce como : **sparse vectors**(vectores donde la mayoría de elementos son 0), esto puede producir problemas ya que le logaritmo de 0 no esta definido, tu solución debe tomar en cuenta esto y evitar que devuelva \"nan\""
   ]
  },
  {
   "cell_type": "code",
   "execution_count": 115,
   "metadata": {},
   "outputs": [
    {
     "data": {
      "text/plain": [
       "0.35667494393873245"
      ]
     },
     "execution_count": 115,
     "metadata": {},
     "output_type": "execute_result"
    }
   ],
   "source": [
    "def cross_entropy(Y,Y_hat):\n",
    "     return np.sum(Y*np.log(Y_hat)*-1)\n",
    "    \n",
    "    \n",
    "y  = np.array([1.0,0,0])\n",
    "y_hat = np.array([0.7,0.2,0.1])\n",
    "\n",
    "cross_entropy(y,y_hat)"
   ]
  },
  {
   "cell_type": "markdown",
   "metadata": {},
   "source": [
    "\n",
    "### Magnitud de un Vector(norma o módulo)\n",
    "Ya hemos visto que en DS usamos vectores para representar información ,una propiedad importante de los vectores es la **magnitud** del vector. \n",
    "\n",
    "Matemáticamente la magnitud de un vector(también conocida como norma vectorial)  nos indica  el tamaño de este , y nos sirve para tener una noción de la distancia desde un punto de referencia(origen) hasta el punto representado por el vector.\n",
    "\n",
    "\n",
    "\n",
    "<img src=\"http://mathonline.wdfiles.com/local--files/the-norm-of-a-vector/Screen%20Shot%202014-06-12%20at%205.37.19%20PM.png\">\n",
    "\n",
    "Se puede calcular con:\n",
    "\n",
    "<img src=\"https://images.slideplayer.com/18/6074185/slides/slide_4.jpg\">\n",
    "\n",
    "En DS la interpretación de la magnitud depende del problema y significado del vector sobre el que se trabaje, ademas de ser también utilizada en calculos mas complejos,por ejemplo: **similitud por cosenos**.\n",
    "\n",
    "<img src=\"https://machinelearningflashcards.com/images/L2_Norm_print.png\">\n",
    "\n",
    "\n",
    "Algunos ejemplos:\n",
    "* En machine learning:\n",
    "    * Si almacenamos en 2 vectores los errores producidos por 2 modelos de ML , podemos usar la magnitud de estos para determinar cual de los 2 modelos es mejor.\n",
    "    * Cuando un modelo de ML \"memoriza\" en lugar de \"aprender\" decimos que sufre \"overfitting\" una forma de atacar este problema es usar \"L2 regularization\" que consiste en agregar a la \"función de costo\" un término de penalización que es calculado a partir de la magnitud de parámetros del modelo(cuadrado de la magnitud)\n",
    "    \n",
    "    <img src=\"https://cdn-images-1.medium.com/max/1600/1*JP9VzwxsRXjocb3WgVOTxA.png\">\n",
    "    * Un paso de pre-procesamiento común en ML es aplicar \"normalización\" a los datos, esto se logra(entre otras formas) dividiendo el vector de datos dentro de su magnitud de manera que tenga magnitud 1.\n",
    "    \n",
    "* En NLP(natural language processing): es común representar documentos como vectores n dimensionales, donde n es el número de palabras en cierto vocabulario, cada elemento \"i\" del vector indica cuantas veces aparece en el documento la palabra denotada por la posición \"i\" , podemos  usar la magnitud vectorial  para calcular la **similitud cosenoidal** y así estimar que tanto se  parece en contenido un documento a otro.\n",
    "<img src=\"https://www.machinelearningplus.com/wp-content/uploads/2018/10/Cosine-Similarity-Formula-1.png\">\n",
    "\n",
    "**ejercicio** : crear una función que reciba como parámetro un vector x y calcule su magnitud o norma(euclidiana o L2) ,luego usarla para evaluar 2 vectores que representan los errores generados por 2 modelos de machine learning y concluir cual de los 2 modelos es mejor."
   ]
  },
  {
   "cell_type": "code",
   "execution_count": 118,
   "metadata": {},
   "outputs": [
    {
     "name": "stdout",
     "output_type": "stream",
     "text": [
      "3.1622776601683795\n",
      "2.449489742783178\n"
     ]
    }
   ],
   "source": [
    "def magnitud(x):\n",
    "    return np.sqrt(np.sum(np.power(x,2)))\n",
    "    \n",
    "\n",
    "errores_modelo1 = np.array([1,2,1,2])\n",
    "errores_modelo2 = np.array([0,1,1,2])\n",
    "\n",
    "print(magnitud(errores_modelo1))\n",
    "print(magnitud(errores_modelo2))\n",
    "\n",
    "#es mejor el modelo 2 ya que tiene un error más pequeño"
   ]
  },
  {
   "cell_type": "markdown",
   "metadata": {},
   "source": [
    "**ejercicio** Usando la función del ejercicio anterior, crea otra función normalizar(x) que reciba de parámetro un vector x aplique normalización sobre este, el resultado debe ser un nuevo vector del tamaño de x cuya magnitud es igual a 1.0"
   ]
  },
  {
   "cell_type": "code",
   "execution_count": 123,
   "metadata": {},
   "outputs": [
    {
     "name": "stdout",
     "output_type": "stream",
     "text": [
      "1.0\n",
      "[0.         0.40824829 0.40824829 0.81649658]\n"
     ]
    }
   ],
   "source": [
    "def normalizar(x):\n",
    "    vector_normalizado = x/magnitud(x)\n",
    "    return vector_normalizado\n",
    "    \n",
    "    \n",
    "print(magnitud(normalizar(errores_modelo1)))\n",
    "print(normalizar(errores_modelo2))"
   ]
  },
  {
   "cell_type": "markdown",
   "metadata": {},
   "source": [
    "### Producto Punto(escalar,interno,interior) y Ortogonalidad\n",
    "\n",
    "El producto punto(también conocido como producto escalar,producto interno o producto interior es una operación entre 2 vectores, cuyo resultado es un único número(escalar).\n",
    "\n",
    "Existen basicamente 2 definiciones del producto punto siendo la más conocida la sumatoria de los productos entre elementos de los vectores.\n",
    "\n",
    "Otra definición geométrica del producto punto puede ser obtenida basandonos en la magnitud de los vectores y el ángulo entre ellos.\n",
    "\n",
    "<img src = \"https://ocw.mit.edu/courses/mathematics/18-02sc-multivariable-calculus-fall-2010/1.-vectors-and-matrices/part-a-vectors-determinants-and-planes/session-2-dot-products/MIT18_02SC_L1Brds_5.png\">\n",
    "\n",
    "Por lo tanto podemos usar estas expresiones para encontrar el ángulo existente entre los 2 vectores.\n",
    "\n",
    "<img src=\"data:image/png;base64,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\">\n",
    "\n",
    "#### Interpretación \n",
    "Existen diversas interpretaciones de esta operación , algunas son :\n",
    "\n",
    "* Que tan similares son 2 vectores: esto es útil en casos donde tengamos vectores de datos y necesitemos comparar su similitud.\n",
    "* Proyectar un vector sobre otro: el producto punto es el tamaño de la proyección de un vector A sobre un vector B multiplicado por el tamaño del vector B\n",
    "<img src=\"NumPy_algebra_lineal/dot_product.png\">\n",
    "* El producto punto es parte importante de la multiplicación de matrices(tema aún por desarrollar), una de las operaciones más importantes en AI a través de deep learning.\n",
    "\n",
    "\n",
    "#### Usos y aplicaciones del producto punto\n",
    "\n",
    "El producto punto tiene diversas aplicaciones en muchas ciencias, en ciencias de datos es muy utilizado y aplicado , por ejemplo:\n",
    "\n",
    "* **En Machine Learning**:\n",
    "    * En modelos lineales como regresión lineal o regresión lógistica es común guardar en un vector los parámetros de los modelos(aveces llamado W) y cuando queremos hacer inferencia sobre ciertos datos \"x\" almacenamos los datos \"x\" en un vector X y aplicamos la operación producto punto entre X y W.\n",
    "    <img src=\"https://images.slideplayer.com/24/7356693/slides/slide_5.jpg\">\n",
    "    * Una interpretación geométrica del producto punto es que tan similares dos vectores son entre sí , las redes neuronales utilizan este principio  para definir multiples capas jerarquicas de \"caraceterísticas\"(representadas por neuronas) que buscar sobre ciertos datos de entrada X, estas  características  son definidas en vectores  por lo cual el producto punto es una medida de que tanto se parece cierto vector X a la característica que la neurona representa, un valor alto del producto punto indica alta similitud entre los datos X y la característica que la neurona \"busca\"\n",
    "    <img src=\"https://isaacchanghau.github.io/img/deeplearning/activationfunction/intro.png\">\n",
    "    \n",
    "\n",
    "#### Perpendicularidad \n",
    "\n",
    "Se dice que 2 vectores son perpendiculares si el producto punto entre ellos es igual a 0 ,geometricamente esto ocurre cuando los vectores se encuentran a 90 grados entre sí por lo cual en DS podemos interpretar que 2 vectores cuyo producto punto es 0, son vectores que difieren mucho por lo tanto son muy diferentes.\n",
    "\n",
    "\n",
    "<img src=\"https://chortle.ccsu.edu/VectorLessons/vch07/acuteORobtuse.gif\">\n",
    "    \n",
    "#### Producto punto en NumPy\n",
    "\n",
    "En NumPy poseemos 2 maneras de calcular el producto punto sobre vectores de igual tamaño:\n",
    "\n",
    "* np.dot:https://docs.scipy.org/doc/numpy/reference/generated/numpy.dot.html#numpy.dot\n",
    "* np.inner:https://docs.scipy.org/doc/numpy/reference/generated/numpy.inner.html\n",
    "\n",
    "**¿Por que 2 operaciones?** Estas operaciones son diferentes cuando se trabaja con Tensores de rango mayor a 1 y pueden ser \"configurables\" , para Tensores de rango=1(vectores de igual tamaño,nuestro tema actual) son equivalentes."
   ]
  },
  {
   "cell_type": "code",
   "execution_count": 80,
   "metadata": {},
   "outputs": [
    {
     "data": {
      "image/png": "[encoded data removed]",
      "text/plain": [
       "<Figure size 432x288 with 1 Axes>"
      ]
     },
     "metadata": {
      "needs_background": "light"
     },
     "output_type": "display_data"
    },
    {
     "name": "stdout",
     "output_type": "stream",
     "text": [
      "140\n"
     ]
    }
   ],
   "source": [
    "a = np.array([10,5]) #usuario1\n",
    "b = np.array([11,6]) #usuario2\n",
    "\n",
    "plt.arrow(0,0,a[0],a[1],head_width=0.1,head_length=0.1)\n",
    "plt.arrow(0,0,b[0],b[1],head_width=0.1,head_length=0.1)\n",
    "plt.xlim(-20,20)\n",
    "plt.ylim(-20,20)\n",
    "plt.show()\n",
    "\n",
    "print(np.dot(a,b))"
   ]
  },
  {
   "cell_type": "code",
   "execution_count": null,
   "metadata": {},
   "outputs": [],
   "source": [
    "f = np.array([0.1,0.2,0.3])\n",
    "g = np.array([1,2,3])\n",
    "\n",
    "print(f.dot(g))\n",
    "print(np.dot(f,g))\n",
    "\n",
    "#print(g.inner(f)) # operacion no existente en NumPy\n",
    "print(np.inner(g,f))"
   ]
  },
  {
   "cell_type": "markdown",
   "metadata": {},
   "source": [
    "**Ejercicio aplicado en DS**\n",
    "Se tiene una red neuronal sencilla(y simplificada) como la de la siguiente imagen:\n",
    "<img src=\"https://www.oreilly.com/library/view/practical-convolutional-neural/9781788392303/assets/246151fb-7893-448d-b9bb-7a87b387a24b.png\">\n",
    "\n",
    "Donde:\n",
    "* INPUT LAYER: un vector X de tamaño = 2 que representa los datos de entrada\n",
    "* HIDDEN_LAYER :capa oculta con 2 neuronas definidas por los vectores:\n",
    "    * HL1 = [0.25,0.37]\n",
    "    * HL2 = [-8,14]\n",
    "* OUTPUT_LAYER = capa de salida definida por el vector [4,9]\n",
    "\n",
    "Crear una funcion neural_network(X) para calcular:\n",
    "* Calcule la salida de cada neurona en la capa intermedia aplicada a la capa de entrada.\n",
    "* Use el resultado del paso anterior como entrada para la neurona en la capa de salida\n",
    "\n",
    "Asumiendo que cada neurona identifica la similitud entre su entrada y la caracteística que representa concluir:\n",
    "* Para cada vector de entrada Xi , cual neurona intermedia busca la característica que mas se parece a X.\n",
    "* Cual vector de entrada Xi produce una activación alta(salida alta) en la capa de salida."
   ]
  },
  {
   "cell_type": "code",
   "execution_count": 206,
   "metadata": {},
   "outputs": [
    {
     "name": "stdout",
     "output_type": "stream",
     "text": [
      "56.2856\n",
      "1176.36\n",
      "0.0\n",
      "56.48\n",
      "100.16359054676757\n"
     ]
    }
   ],
   "source": [
    "# Aplicar la red neuronal sobre los siguientes datos X\n",
    "def neural_network(X):\n",
    "    HL1 = np.array([0.25,0.37])\n",
    "    HL2 = np.array([-8,14])\n",
    "    OUTPUT_LAYER =  np.array([4,9])\n",
    "    \n",
    "    HL_OUTPUT = np.array([X.dot(HL1) , X.dot(HL2)])\n",
    "    return OUTPUT_LAYER.dot(HL_OUTPUT)\n",
    "    \n",
    "X1 = np.array([0.50,0.72])\n",
    "X2 = np.array([-4,7])\n",
    "X3 = np.zeros_like(X2)\n",
    "X4 = np.ones_like(X1)\n",
    "X5 = np.random.randn(X1.shape[0])\n",
    "\n",
    "print(neural_network(X1))\n",
    "print(neural_network(X2))\n",
    "print(neural_network(X3))\n",
    "print(neural_network(X4))\n",
    "print(neural_network(X5))"
   ]
  },
  {
   "cell_type": "markdown",
   "metadata": {},
   "source": [
    "**Ejercicio aplicado en DS**: la correlación cruzada es una medida de similitud entre 2 funciones como resultado de \"desplazar\" una sobre la otra, comunmente es usada para encontrar características relevantes en una función desconocida o no controlada.\n",
    "\n",
    "En procesamiento de señales por ejemplo es usada para buscar y/o filtrar en una señal que varia en el tiempo cierta caracaterística de interés. Aveces es llamada también \"sliding dot product\" consiste en aplicar en cada punto de una función F el producto punto con cierta función G(comunmente mas corta) y luego \"deslizar\" G a un nuevo punto de la función, el resultado es una nueva función H que se interpreta como :**cuanto se parece** en cada punto la función F a la característica G. \n",
    "\n",
    "<img src=\"https://i.makeagif.com/media/11-25-2015/LZ9Ufj.gif\">\n",
    "\n",
    "En este ejercicio usamos correlación cruzada para calcular las medias moviles promediando 3 puntos que ya vimos en otro ejemplo:\n",
    "\n",
    "El primer paso es definir la función G que define el \"filtro\" a aplicar, para este caso consiste simplemente en un vector con 3 elementos donde cada elemento corresponde a 1/3, luego debemos aplicar el producto punto sobre cada punto de la función o datos originales(en este ejemplo llamados x) a traves aplicar el producto punto en cada elemento \"corriendolo\" de uno en uno"
   ]
  },
  {
   "cell_type": "code",
   "execution_count": 184,
   "metadata": {},
   "outputs": [
    {
     "data": {
      "text/plain": [
       "array([ 2.47680158e-04,  3.10627360e-01,  6.25795985e-01,  8.39349283e-01,\n",
       "        8.67557471e-01,  7.40774519e-01,  4.44364758e-01,  7.29318018e-02,\n",
       "       -3.77777084e-01, -7.14845316e-01, -8.97612127e-01, -8.66608835e-01,\n",
       "       -6.96206053e-01, -4.12954566e-01, -9.34383522e-02])"
      ]
     },
     "execution_count": 184,
     "metadata": {},
     "output_type": "execute_result"
    }
   ],
   "source": [
    "ruido = 0.1*np.random.randn(15) #el ruido comunmente se debe a aleatoriedad o captura no exacta de info.\n",
    "x = np.linspace(0,2*np.pi,15) + ruido\n",
    "x = np.sin(x)\n",
    "\n",
    "filtro = np.array([1/3,1/3,1/3])\n",
    "\n",
    "xs = np.copy(x)\n",
    "for i in range(1,len(x)-1):\n",
    "    xs[i] = np.dot(x[(i-1):(i+2)],filtro)\n",
    "\n",
    "xs\n",
    "    \n",
    "\n"
   ]
  },
  {
   "cell_type": "markdown",
   "metadata": {},
   "source": [
    "### Constantes Numéricas importantes\n",
    "\n",
    "Tal como NumPy provee funciones matemáticas comunes como logaritmos y funciones trigonométricas ,también posee constantes usadas comunmente en problemas numéricos , por ejemplo:\n",
    "\n",
    "* **np.e** : constante de Euler, base de logaritmos naturales 2.71828...\n",
    "* **np.pi** :el conocido número pi 3.1415.....\n",
    "* **np.euler_gamma**: constante utilizada  por ejemplo en transformadas de Laplace , 0.5772....\n",
    "\n",
    "Además de algunas constantes útiles en Python para indicar por ejemplo: infinito positivo, negativo o si el resultado de una operación no es un número definido.\n",
    "\n",
    "* **np.inf**: infinito positivo\n",
    "* **np.NINF** :infinito negativo\n",
    "* **np.nan**: not a number\n",
    "\n",
    "\n",
    "https://docs.scipy.org/doc/numpy-1.15.0/reference/constants.html"
   ]
  },
  {
   "cell_type": "code",
   "execution_count": null,
   "metadata": {},
   "outputs": [],
   "source": [
    "import numpy as np\n",
    "print(np.e)\n",
    "print(np.pi)\n",
    "print(np.euler_gamma)\n",
    "\n",
    "print(np.inf)\n",
    "print(np.NINF)\n",
    "print(np.nan)"
   ]
  },
  {
   "cell_type": "markdown",
   "metadata": {},
   "source": [
    "inf,NINF, y nan  se obtienen muchas veces al aplicar una operación matemática sobre cierto valor, por ejemplo logaritmos de números negativos es algo no definido por lo cual resulta en nan, o una división por 0 resulta en infinito.\n"
   ]
  },
  {
   "cell_type": "code",
   "execution_count": 60,
   "metadata": {},
   "outputs": [
    {
     "name": "stdout",
     "output_type": "stream",
     "text": [
      "[       nan        nan       -inf 0.         0.40546511 2.30258509\n",
      " 4.60517019]\n"
     ]
    },
    {
     "name": "stderr",
     "output_type": "stream",
     "text": [
      "/home/luis/anaconda2/envs/galileo_python/lib/python3.7/site-packages/ipykernel_launcher.py:3: RuntimeWarning: divide by zero encountered in log\n",
      "  This is separate from the ipykernel package so we can avoid doing imports until\n",
      "/home/luis/anaconda2/envs/galileo_python/lib/python3.7/site-packages/ipykernel_launcher.py:3: RuntimeWarning: invalid value encountered in log\n",
      "  This is separate from the ipykernel package so we can avoid doing imports until\n"
     ]
    }
   ],
   "source": [
    "x = np.array([-5.3,-1,0,1,1.5,10,100])\n",
    "\n",
    "print(np.log(x))"
   ]
  },
  {
   "cell_type": "code",
   "execution_count": 59,
   "metadata": {},
   "outputs": [
    {
     "name": "stderr",
     "output_type": "stream",
     "text": [
      "/home/luis/anaconda2/envs/galileo_python/lib/python3.7/site-packages/ipykernel_launcher.py:4: RuntimeWarning: divide by zero encountered in true_divide\n",
      "  after removing the cwd from sys.path.\n"
     ]
    },
    {
     "data": {
      "text/plain": [
       "array([1.   ,   inf, 1.125])"
      ]
     },
     "execution_count": 59,
     "metadata": {},
     "output_type": "execute_result"
    }
   ],
   "source": [
    "numerador = np.array([5,4,9])\n",
    "divisor = np.array([5,0,8])\n",
    "\n",
    "numerador/divisor"
   ]
  },
  {
   "cell_type": "code",
   "execution_count": 61,
   "metadata": {},
   "outputs": [
    {
     "name": "stdout",
     "output_type": "stream",
     "text": [
      "[0.31622777 0.4472136  2.23606798        nan 2.64575131]\n"
     ]
    },
    {
     "name": "stderr",
     "output_type": "stream",
     "text": [
      "/home/luis/anaconda2/envs/galileo_python/lib/python3.7/site-packages/ipykernel_launcher.py:3: RuntimeWarning: invalid value encountered in sqrt\n",
      "  This is separate from the ipykernel package so we can avoid doing imports until\n"
     ]
    }
   ],
   "source": [
    "x  = np.array([0.1,0.2,5,-2, 7])\n",
    "\n",
    "print(np.sqrt(x))"
   ]
  },
  {
   "cell_type": "code",
   "execution_count": 62,
   "metadata": {},
   "outputs": [
    {
     "data": {
      "text/plain": [
       "False"
      ]
     },
     "execution_count": 62,
     "metadata": {},
     "output_type": "execute_result"
    }
   ],
   "source": [
    "np.inf <= 50"
   ]
  },
  {
   "cell_type": "code",
   "execution_count": 63,
   "metadata": {},
   "outputs": [
    {
     "data": {
      "text/plain": [
       "True"
      ]
     },
     "execution_count": 63,
     "metadata": {},
     "output_type": "execute_result"
    }
   ],
   "source": [
    "np.inf >= 1000000"
   ]
  },
  {
   "cell_type": "code",
   "execution_count": 64,
   "metadata": {},
   "outputs": [
    {
     "data": {
      "text/plain": [
       "True"
      ]
     },
     "execution_count": 64,
     "metadata": {},
     "output_type": "execute_result"
    }
   ],
   "source": [
    "np.NINF < 0"
   ]
  },
  {
   "cell_type": "code",
   "execution_count": 65,
   "metadata": {},
   "outputs": [
    {
     "data": {
      "text/plain": [
       "True"
      ]
     },
     "execution_count": 65,
     "metadata": {},
     "output_type": "execute_result"
    }
   ],
   "source": [
    "-1*np.inf == np.NINF"
   ]
  },
  {
   "cell_type": "code",
   "execution_count": 66,
   "metadata": {},
   "outputs": [
    {
     "data": {
      "text/plain": [
       "inf"
      ]
     },
     "execution_count": 66,
     "metadata": {},
     "output_type": "execute_result"
    }
   ],
   "source": [
    "np.inf - 1"
   ]
  },
  {
   "cell_type": "code",
   "execution_count": 67,
   "metadata": {},
   "outputs": [
    {
     "data": {
      "text/plain": [
       "nan"
      ]
     },
     "execution_count": 67,
     "metadata": {},
     "output_type": "execute_result"
    }
   ],
   "source": [
    "np.inf/np.NINF"
   ]
  },
  {
   "cell_type": "markdown",
   "metadata": {},
   "source": [
    "### Operadores lógicos en vectores\n",
    "\n",
    "Que pasa si necesitamos aplicar condiciones y validaciones al trabajar con vectores?\n",
    "\n",
    "Por ejemplo:\n",
    "$$h(x) = \\begin{cases}0 & x< 0\\\\1 & 0<=x <=1\\\\0 & x> 1\\end{cases}$$\n",
    "\n",
    "El siguiente código que refleja esta función da error.\n",
    "\n"
   ]
  },
  {
   "cell_type": "code",
   "execution_count": 69,
   "metadata": {},
   "outputs": [],
   "source": [
    "def h(x):\n",
    "    if x < 0:\n",
    "        return 0.0\n",
    "    elif 0 <= x <= 1:\n",
    "        return 1.0\n",
    "    else:\n",
    "        return 0.0\n",
    "    \n",
    "x = np.array([-1,0.1,10])\n",
    "\n",
    "#h(x)"
   ]
  },
  {
   "cell_type": "markdown",
   "metadata": {},
   "source": [
    "Para resolver el problema anterior(entre otras cosas) NumPy provee el uso de operadores lógicos sobre tensores , estos se aplican \"elemento por elemento\" gracias al broadcasting, el resultado de estos es valores booleanos True o False para cada valor.\n",
    "\n",
    "Nuevamente **es importante hacer uso del broadcasting y no hacerlo con ciclos**"
   ]
  },
  {
   "cell_type": "code",
   "execution_count": 71,
   "metadata": {},
   "outputs": [
    {
     "name": "stdout",
     "output_type": "stream",
     "text": [
      "[-2.  -1.5 -1.  -0.5  0.   0.5  1.   1.5  2. ] [ True  True  True  True False False False False False]\n",
      "9 9\n"
     ]
    }
   ],
   "source": [
    "x = np.linspace(-2,2,9)\n",
    "\n",
    "y = x < 0\n",
    "\n",
    "print(x,y)\n",
    "print(len(x),len(y))"
   ]
  },
  {
   "cell_type": "markdown",
   "metadata": {},
   "source": [
    "##### Usando vectores booleanos para acceder elementos en otros vectores\n",
    "\n",
    "NumPy nos permite acceder vectores con otros vectores de tipo booleano,el resultado de esto es obtener de cierto vector solo los elementos cuya posición corresponde a un valor True en el vector booleano,\n",
    "con la sintáxis que usabamos para hacer indexing, pero usando un vector booleano como índice\n",
    "por ejemplo para el caso anterior:"
   ]
  },
  {
   "cell_type": "code",
   "execution_count": 73,
   "metadata": {},
   "outputs": [
    {
     "data": {
      "text/plain": [
       "array([-2. , -1.5, -1. , -0.5])"
      ]
     },
     "execution_count": 73,
     "metadata": {},
     "output_type": "execute_result"
    }
   ],
   "source": [
    "x[y]"
   ]
  },
  {
   "cell_type": "code",
   "execution_count": null,
   "metadata": {},
   "outputs": [],
   "source": [
    "x"
   ]
  },
  {
   "cell_type": "markdown",
   "metadata": {},
   "source": [
    "En este caso \"y\" es redundante y se pudo hacer:"
   ]
  },
  {
   "cell_type": "code",
   "execution_count": 74,
   "metadata": {},
   "outputs": [
    {
     "data": {
      "text/plain": [
       "array([-2. , -1.5, -1. , -0.5])"
      ]
     },
     "execution_count": 74,
     "metadata": {},
     "output_type": "execute_result"
    }
   ],
   "source": [
    "x[x<0]"
   ]
  },
  {
   "cell_type": "markdown",
   "metadata": {},
   "source": [
    "Explicación: el aplicar x < 0 generó un vector que tiene los primeros 4 elementos como True , si usamos este vector booleano como indice del vector original x entonces obtenemos solo los elementos de x que estan asociados a elementos True en el vector booleano de indice, en este caso solo los primeros 4."
   ]
  },
  {
   "cell_type": "markdown",
   "metadata": {},
   "source": [
    "**Ejercicio** dado el vector x, usar operadores lógicos sobre vectores y acceso a  elementos usando vectores booleanos , escribir un programa que calcule eun nuevo vector z conteniendo el valor absoluto de el vector x.\n",
    "\n",
    "**nota** No se puede usar np.abs() ni ciclos\n",
    "\n",
    "**tip** usar un vector booleano para saber que elementos son negativos y deben ser multiplicados por -1"
   ]
  },
  {
   "cell_type": "code",
   "execution_count": 165,
   "metadata": {},
   "outputs": [
    {
     "data": {
      "text/plain": [
       "array([2. , 1.5, 1. , 0.5, 0. , 0.5, 1. , 1.5, 2. ])"
      ]
     },
     "execution_count": 165,
     "metadata": {},
     "output_type": "execute_result"
    }
   ],
   "source": [
    "x = np.linspace(-2,2,9)\n",
    "\n",
    "z = np.copy(x)\n",
    "z[z<0] *= -1\n",
    "z\n",
    "\n"
   ]
  },
  {
   "cell_type": "markdown",
   "metadata": {},
   "source": [
    "**ejercicio** Implementar la función:\n",
    "$$h(x) = \\begin{cases}0 & x< 0\\\\1 & 0<=x <=1\\\\0 & x> 1\\end{cases}$$\n",
    "\n",
    "Esta debe funcionar para vectores de cualquier tamaño x:\n",
    "\n",
    "def h(x):\n",
    "\n",
    "    ...\n",
    "\n",
    "**nota** debe ser implementada sin ciclos o ifs "
   ]
  },
  {
   "cell_type": "code",
   "execution_count": 176,
   "metadata": {},
   "outputs": [
    {
     "name": "stdout",
     "output_type": "stream",
     "text": [
      "[1. 0. 1. 0.]\n"
     ]
    }
   ],
   "source": [
    "def h(x):\n",
    "    h = x.copy()\n",
    "    h[h<0] =0\n",
    "    h[h>1] =0\n",
    "    h[h>0] =1\n",
    "    return h\n",
    "\n",
    "x = np.array([0.1,-2,0.5,5])\n",
    "print(h(x))"
   ]
  },
  {
   "cell_type": "markdown",
   "metadata": {},
   "source": [
    "Para casos donde se requiere comportamiento parecido a este pero con mas condiciones, NumPy provee la función **np.select** , la descripción de esta función casi siempre es mas complicada de lo que debería y dificulta entenderla, vamos a buscar entenderla bajo un ejemplo.\n",
    "\n",
    "Básicamente select se basa en :\n",
    "* una lista de condiciones A\n",
    "* una lista de valores a tomar según estas condiciones B\n",
    "* un valor de  resultado default cuando ninguna de las condiciones en la  lista se cumple.\n",
    "Estas 2 listas deben ser del mismo tamañaño."
   ]
  },
  {
   "cell_type": "code",
   "execution_count": 75,
   "metadata": {},
   "outputs": [
    {
     "name": "stdout",
     "output_type": "stream",
     "text": [
      "[0 1 2 3 4 5 6 7 8 9]\n"
     ]
    },
    {
     "data": {
      "text/plain": [
       "array([ 0,  1,  2,  0,  0,  0, 36, 49, 64, 81])"
      ]
     },
     "execution_count": 75,
     "metadata": {},
     "output_type": "execute_result"
    }
   ],
   "source": [
    "x = np.arange(10)\n",
    "condiciones = [x<3,x>5] #lista A \n",
    "resultados =  [x,  x**2] #lista B\n",
    "\n",
    "print(x)\n",
    "#los valores de x que no satisfacen ningúna condicion obtendran 0 como resultado(este es el valor default)\n",
    "np.select(condiciones,resultados) "
   ]
  },
  {
   "cell_type": "code",
   "execution_count": 76,
   "metadata": {},
   "outputs": [
    {
     "data": {
      "text/plain": [
       "array([ 0,  1,  2, -1, -1, -1, 36, 49, 64, 81])"
      ]
     },
     "execution_count": 76,
     "metadata": {},
     "output_type": "execute_result"
    }
   ],
   "source": [
    "np.select(condiciones,resultados,-1) #podemos agregar un tercer parámetro para el valor default "
   ]
  },
  {
   "cell_type": "markdown",
   "metadata": {},
   "source": [
    "Otro ejemplo"
   ]
  },
  {
   "cell_type": "code",
   "execution_count": 77,
   "metadata": {},
   "outputs": [
    {
     "name": "stdout",
     "output_type": "stream",
     "text": [
      "[ 1.  2.  3.  4.  5.  6.  7.  8.  9. 10.]\n",
      "[  1.   2.   3.  -1.  -1.  -1.  49.  64.  81. 100.]\n"
     ]
    }
   ],
   "source": [
    "x = np.linspace(1,10,10)\n",
    "condiciones = [x<4,x>=7]\n",
    "resultados =  [x,  x**2]\n",
    "k = np.select(condiciones,resultados,-1)\n",
    "\n",
    "print(x)\n",
    "print(k)"
   ]
  },
  {
   "cell_type": "markdown",
   "metadata": {},
   "source": [
    "**Ejercicio**\n",
    "\n",
    "Usando select implementar una función k(x) con la siguiente definición:\n",
    "$$k(x) = \\begin{cases}-x & x< 0\\\\x^{3}  &0<=x<1\\\\x^{2}  &1<=x<2\\\\4  &otherwise\\end{cases}$$\n",
    "\n"
   ]
  },
  {
   "cell_type": "code",
   "execution_count": 187,
   "metadata": {},
   "outputs": [
    {
     "name": "stdout",
     "output_type": "stream",
     "text": [
      "[-5.         -3.88888889 -2.77777778 -1.66666667 -0.55555556  0.55555556\n",
      "  1.66666667  2.77777778  3.88888889  5.        ]\n",
      "[5.         3.88888889 2.77777778 1.66666667 0.55555556 0.17146776\n",
      " 2.77777778 4.         4.         4.        ]\n"
     ]
    }
   ],
   "source": [
    "x = np.linspace(-5,5,10)\n",
    "condiciones = [x<0, np.logical_and(x>=0, x<1), np.logical_and(x>=1,x<2)]\n",
    "resultados = [x*-1, x**3, x**2]\n",
    "\n",
    "k = np.select(condiciones,resultados,4)\n",
    "\n",
    "print(x)\n",
    "print(k)"
   ]
  },
  {
   "cell_type": "markdown",
   "metadata": {},
   "source": [
    "##### Select y performance\n",
    "Aun que select es muy conveniente y útil , no es la opción mas eficiente esto debido a que evalua todas las condiciones y todos los resultados, en programación en general buscamos escribir los programas de la manera mas eficiente posible y evitar calculos innecesarios, esto se vuelve vital en ciencia de datos cuando procesamos grandes volúmenes de información, por eso NumPy nos provee la alternativa a select llamada **piecewise** que funciona de manera similar .\n",
    "\n",
    "\n",
    "Este funciona similar a select pero en vez de calcular todos los posibles resultados, calcula solo aquellos para los que la condición es True e ignora los False,sintácticamente piecewise requiere que los \"resultados\" sesan calcuados usando una lista de funciones por lo cual todos los resultados deben estar contenidos en una función  y el objeto función ser enviado a piecewise (si la función solo se utiliza una vez para este propósito, se puede usar funciones anónimas o lambda).\n",
    "\n",
    "**Ejercicio** \n",
    "Investigar piecewise y:\n",
    "*  Usarlo para implementar la función anterior de manera eficiente\n",
    "*  Usar piscewise para implementar la función:\n",
    "\n",
    "$$m(x) = \\begin{cases}e^{2x} & x< 0\\\\1  &0<=x<1\\\\e^{1-x}  &x<=1\\\\\\end{cases}$$\n",
    "\n",
    "Nuevamente, sin utilizar ciclos ni ifs"
   ]
  },
  {
   "cell_type": "code",
   "execution_count": 198,
   "metadata": {},
   "outputs": [
    {
     "name": "stdout",
     "output_type": "stream",
     "text": [
      "[-5.         -3.88888889 -2.77777778 -1.66666667 -0.55555556  0.55555556\n",
      "  1.66666667  2.77777778  3.88888889  5.        ]\n",
      "\n",
      "[4.53999298e-05 4.18942123e-04 3.86592014e-03 3.56739933e-02\n",
      " 3.29192988e-01 1.00000000e+00 5.13417119e-01 1.69013315e-01\n",
      " 5.56379983e-02 1.83156389e-02]\n"
     ]
    }
   ],
   "source": [
    "x = np.linspace(-5,5,10)\n",
    "condiciones = [x<0, np.logical_and(x>=0, x<1), x>=1]\n",
    "funciones = [lambda x: np.exp(2*x), 1, lambda x: np.exp(1-x)]\n",
    "\n",
    "m = np.piecewise(x,condiciones,funciones)\n",
    "print(x)\n",
    "print()\n",
    "print(m)"
   ]
  },
  {
   "cell_type": "markdown",
   "metadata": {},
   "source": [
    "#### Investigar\n",
    "\n",
    "* Proyección vectorial\n",
    "    * Definir una función para calculo en numpy\n",
    "    * interpretación\n",
    "    * aplicación o caso de uso en DS u otras ciencias de tu interés: solo se necesita nombrar el caso de uso, no desarrollarlo o programarlo, tip: Hay un algoritmo de ML cuyo nombre puede ser  útil.\n",
    "* Producto cruz\n",
    "    * calculo en numpy\n",
    "    * interpretación\n",
    "    * aplicación o caso de uso en DS u otras ciencias de tu interés: solo se necesita nombrar el caso de uso, no desarrollarlo o programarlo\n",
    "    \n",
    "#### Referencias\n",
    "\n",
    "* https://www.oreilly.com/library/view/data-science-from/9781491901410/ch04.html\n",
    "* https://towardsdatascience.com/linear-algebra-cheat-sheet-for-deep-learning-cd67aba4526c\n",
    "* https://www.analyticsvidhya.com/blog/2017/05/comprehensive-guide-to-linear-algebra/\n",
    "* https://towardsdatascience.com/boost-your-data-sciences-skills-learn-linear-algebra-2c30fdd008cf\n",
    "* https://machinelearningmastery.com/examples-of-linear-algebra-in-machine-learning/\n",
    "* https://www.youtube.com/playlist?list=PLZHQObOWTQDPD3MizzM2xVFitgF8hE_ab"
   ]
  }
 ],
 "metadata": {
  "kernelspec": {
   "display_name": "Python 3",
   "language": "python",
   "name": "python3"
  },
  "language_info": {
   "codemirror_mode": {
    "name": "ipython",
    "version": 3
   },
   "file_extension": ".py",
   "mimetype": "text/x-python",
   "name": "python",
   "nbconvert_exporter": "python",
   "pygments_lexer": "ipython3",
   "version": "3.8.1"
  }
 },
 "nbformat": 4,
 "nbformat_minor": 2
}
