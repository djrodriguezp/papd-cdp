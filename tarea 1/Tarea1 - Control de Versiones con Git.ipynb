{
 "cells": [
  {
   "cell_type": "markdown",
   "metadata": {},
   "source": [
    "# Control de Versiones con Git</center>\n",
    "\n",
    "___\n",
    "## ¿Qué es un sistema de control de versiones?\n",
    "Es un tipo de sistema que sirve, como su nombre lo dice, para controlar los cambios realizados a lo largo del tiempo en un archivo o un conjunto de archivos. \n",
    "\n",
    "\n",
    "Entre las funcionalidades proporcionadas por un controlador de versiones es llevar una bitácora indicando específicamente qué cambios fueron realizados en los archivos entre una versión y otra, poder hacer cambios en paralelo con diferentes colaboradores, saber quién y cuándo se realizaron los cambios. \n",
    "\n",
    "Debido a sus cualidades, los sistemas de control de versiones son bastante utilizados para el desarrollo de aplicaciones ya que permiten a los desarrolladores poder hacer \"rollback\" a una versión anterior estable en caso de que alguna actualización tenga alguna falla o que alguien por error haya eliminado alguna funcionalidad en el código, sin embargo, su uso no se encuentra limitado a desarrolladores, actualmente también son bastante utilizados por diseñadores gráficos o personas que quieren llevar de una manera más ordenada los cambios realizados sobre sus documentos, tesis o apuntes.\n",
    "\n",
    "Existen diferentes sistemas de control de versiones, siendo los más conocidos Git, Subversion y CVS. En este ensayo estudiaremos Git ya que es el control de versiones más popular en la actualidad.\n",
    "\n",
    "Aprender a utilizar de manera correcta un sistema de control de versiones nos evitará inconvenientes de este tipo:\n",
    "\n",
    "<img src=\"img/i-will-find-u.png\" width=\"300\" />\n",
    "\n",
    "___\n",
    "## ¿Qué es Git?\n",
    "Git, como ya se ha mencionado en la sección anterior, es el sistema de control de versiones más utilizado actualmente, lo que lo ha convertido casi en un estándar de control de versiones para desarrollo de software a nivel mundial. Git fue diseñado por ~~el amo y señor~~ Linus Torvalds en el año 2005, con la finalidad de crear una herramienta para el mantenimiento confiable de código fuente. \n",
    "\n",
    "Gran parte de su popularidad, dejando por un lado la eficiencia de sus funcionalidades, se le atribuye a GitHub la cual es una plataforma colaborativa que utiliza Git como motor y ha permitido a desarrolladores de todo el mundo poder compartir su código con otros desarrolladores y asimismo poder colaborar en sus proyectos.\n",
    "\n",
    "Los espacios donde se almacenan y se comparten los archivos son llamados **repositorios**, un repositorio puede contener múltiples archivos y subdirectorios, Git llevará un control de cambios sobre los archivos del repositorio a menos que le digamos que ignore ciertos tipos de extensiones o archivos específicos.\n",
    "\n",
    "Git se compone de 3 tipos de estructuras que son:\n",
    "\n",
    "- **Blob:** Es la estructura denominada para un conjunto de bytes, ya sea un archivo binario, archivo de texto, código fuente, una imagen, Git lo define como Blob.\n",
    "\n",
    "- **Tree:** Es el equivalente a un directorio del sistema y este tiene referencias a otra estructura tree (equivalente a subdirectorios) o a estructuras blob.\n",
    "\n",
    "- **Commit:** Este tipo de estructura guarda información sobre los cambios realizados en los archivos y un puntero a su commit padre para que se pueda saber cuál era el estado de los archivos antes de realizar los cambios. Cada vez que se realiza un commit, se genera un \"snapshot\" de los archivos con cambios y los guarda para poder referenciar a ellos en el futuro si es deseado. Los commits tienen identificadores únicos que son determinados con una función hash SHA1, esto permite poder ver información de un commit en específico por medio de su id. \n",
    "\n",
    "<img src=\"img/data-structures.png\" width=\"550\" align=\"center\" />\n",
    "\n",
    "### Ventajas de Utilizar Git\n",
    "Algunas de las ventajas que obtenemos al utilizar Git son:\n",
    "\n",
    "- **Facilidad de hacer rollback:** Si existe algún problema con la versión actual del repositorio, es posible regresar fácilmente a una versión estable haciendo referencia al commit que deseamos.\n",
    "\n",
    "- **Repositorios Locales y Remotos:** Git nos da la posibilidad de trabajar con repositorios locales lo cual nos permite poder manejar un control de versiones sin tener acceso a internet. También tenemos la posibilidad de tener repositorios remotos para poder compartir el repositorio con otras personas.\n",
    "\n",
    "- **Ambiente de Trabajo Colaborativo:** Git nos permite poder agregar colaboradores a nuestros repositorios, logrando de esta manera trabajar en diferentes archivos o un mismo archivo al mismo tiempo. Cuando se realizan commit de los cambios, Git intentará hacer un auto-merge de los archivos modificados. Si existe algún conflicto entre los archivos se le notificará a la persona que realiza el commit para poder resolverlos de manera manual.\n",
    "\n",
    "- **Branches:** Git nos permite crear varios branches (ramas) del repositorio, permitiendo trabajar en paralelo diferentes funcionalidades del código sin que se afecten entre ellas. Una vez terminados los cambios en los branches, si se desea, es posible hacer un merge de estos.\n",
    "\n",
    "___"
   ]
  },
  {
   "cell_type": "markdown",
   "metadata": {},
   "source": [
    "## Comandos Básicos de Git\n",
    "Git cuenta con una gran variedad de comandos por lo cual describiremos algunos comandos, su funcionalidad y un ejemplo, con el fin de poder realizar control de versiones de manera básica y no morir en el intento.\n",
    "\n",
    "En los ejemplos se antepondrá un signo **!** a los comandos de git y comandos del sistema ya que estos son interpretados por Jupyter Books como shell commands.\n",
    "\n",
    "<img src=\"img/git-commands.png\" width=\"450\"/>"
   ]
  },
  {
   "cell_type": "markdown",
   "metadata": {},
   "source": [
    "-  **git init:** Crea un nuevo repositorio local en el directorio actual."
   ]
  },
  {
   "cell_type": "code",
   "execution_count": null,
   "metadata": {},
   "outputs": [],
   "source": [
    "!git init"
   ]
  },
  {
   "cell_type": "markdown",
   "metadata": {},
   "source": [
    "-  **git config:** Se utiliza para definir parámetros en la configuración de un repositorio especifico o de manera global. En el siguiente ejemplo se utilizará para definir los parámetros user.name y user.email en todos los repositorios, los cuales son utilizados para registrar quién realizó cambios en un commit."
   ]
  },
  {
   "cell_type": "code",
   "execution_count": null,
   "metadata": {},
   "outputs": [],
   "source": [
    "!git config --global user.name \"Daniel Rodríguez\"\n",
    "!git config --global user.email \"daniel.rodriguez@galileo.edu\""
   ]
  },
  {
   "cell_type": "markdown",
   "metadata": {},
   "source": [
    "-  **git status:** Es utilizado para listar los cambios realizados en los archivos del repositorio después del último commit. En el ejemplo crearemos un archivo y ejecutaremos git status el cuál nos indicará que el nuevo archivo no se ha agregado para realizar commit.\n"
   ]
  },
  {
   "cell_type": "code",
   "execution_count": null,
   "metadata": {},
   "outputs": [],
   "source": [
    "!echo \"hello world!\" > miarchivito.txt\n",
    "!git status"
   ]
  },
  {
   "cell_type": "markdown",
   "metadata": {},
   "source": [
    "-  **git add <archivo>:** Agrega un archivo que contiene cambios para que sea adicione al hacer commit. Si se desean agregar todos los archivos, se puede utilizar la bandera **-A** en lugar del nombre del archivo"
   ]
  },
  {
   "cell_type": "code",
   "execution_count": null,
   "metadata": {},
   "outputs": [],
   "source": [
    "!git add miarchivito.txt"
   ]
  },
  {
   "cell_type": "markdown",
   "metadata": {},
   "source": [
    "-  **git commit:** Crea un nuevo commit con los archivos agregados con git add. Al hacer ejecutar este comando se abrirá un editor de texto para que agreguemos una descripción del cambio realizado. Una bandera útil para este comando es utilizar la bandera **-m** la cual nos permite agregar la descripción sin tener que abrir el editor de texto."
   ]
  },
  {
   "cell_type": "code",
   "execution_count": null,
   "metadata": {},
   "outputs": [],
   "source": [
    "!git commit -m \"first commit\""
   ]
  },
  {
   "cell_type": "markdown",
   "metadata": {},
   "source": [
    "-  **git log:** Nos muestra la información de los commits realizados. Con este comando podremos ver el identificador de un commit, cuales fueron los cambios realizados, quién y cuándo fueron realizados."
   ]
  },
  {
   "cell_type": "code",
   "execution_count": null,
   "metadata": {},
   "outputs": [],
   "source": [
    "!git log"
   ]
  },
  {
   "cell_type": "markdown",
   "metadata": {},
   "source": [
    "-  **git diff:** Nos muestra las diferencias encontradas en los archivos modificados del repositorio."
   ]
  },
  {
   "cell_type": "code",
   "execution_count": null,
   "metadata": {},
   "outputs": [],
   "source": [
    "!echo \"git rules\" >> miarchivito.txt\n",
    "!git diff"
   ]
  },
  {
   "cell_type": "markdown",
   "metadata": {},
   "source": [
    "-  **git branch [nombre branch]:** Si es ejecutado sin ningún parámetro, nos muestra el branch actual donde nos encontramos trabajando. Por defecto se trabaja sobre el branch *master*.\n",
    "\n",
    "  Si se le da el nombre de un branch, este crea un nuevo branch. Si se antepone la bandera **-d** al nombre del branch, este es eliminado.\n",
    "\n",
    "  En el siguiente ejemplo se crearan 2 branches nuevos y se eliminará uno de los branches creados."
   ]
  },
  {
   "cell_type": "code",
   "execution_count": null,
   "metadata": {},
   "outputs": [],
   "source": [
    "!git branch\n",
    "!git branch testing\n",
    "!git branch bugfix\n",
    "!git branch -d bugfix"
   ]
  },
  {
   "cell_type": "markdown",
   "metadata": {},
   "source": [
    "-  **git checkout [nombre branch]:** Cambia al branch especificado. En el siguiente ejemplo nos pasaremos al branch testing."
   ]
  },
  {
   "cell_type": "code",
   "execution_count": null,
   "metadata": {},
   "outputs": [],
   "source": [
    "!git checkout testing"
   ]
  },
  {
   "cell_type": "markdown",
   "metadata": {},
   "source": [
    "-  **git merge [nombre branch]:** Hace una union entre 2 ramas. \n",
    "\n",
    "  En este ejemplo modificaremos el archivo de ejemplo en el branch testing, nos moveremos al branch master y haremos merge del branch testing."
   ]
  },
  {
   "cell_type": "code",
   "execution_count": null,
   "metadata": {},
   "outputs": [],
   "source": [
    "!echo \"hack the planet\" >> miarchivito.txt\n",
    "!git checkout master\n",
    "!git merge testing"
   ]
  },
  {
   "cell_type": "markdown",
   "metadata": {},
   "source": [
    "-  **git remote add < nombre > < repositorio remoto >:** Enlaza el repositorio local un repositorio remoto, asignandole el nombre indicado.\n",
    "   \n",
    "    Si solo se ejecuta git remote, se obtiene un listado de los repositorios remotos configurados en el repositorio local.\n",
    "    \n",
    "    En este ejemplo se agregará un respositorio remoto bajo el nombre origin."
   ]
  },
  {
   "cell_type": "code",
   "execution_count": null,
   "metadata": {},
   "outputs": [],
   "source": [
    "!git remote add origin https://github.com/vash666/mireporemotodepruebas.git"
   ]
  },
  {
   "cell_type": "markdown",
   "metadata": {},
   "source": [
    "-  **git push < nombre repositorio > < branch local >:** Este comando es utilizado para enviar los commits locales al repositorio remoto."
   ]
  },
  {
   "cell_type": "code",
   "execution_count": null,
   "metadata": {},
   "outputs": [],
   "source": [
    "!git push origin master"
   ]
  },
  {
   "cell_type": "markdown",
   "metadata": {},
   "source": [
    "-  **git fetch:** Comando utilizado para obtener los commits remotos al repositorio local. Este commando no hace merge automaticamente por lo que hay que hacer merge manual."
   ]
  },
  {
   "cell_type": "code",
   "execution_count": null,
   "metadata": {},
   "outputs": [],
   "source": [
    "!git fetch\n",
    "!git merge"
   ]
  },
  {
   "cell_type": "markdown",
   "metadata": {},
   "source": [
    "-  **git pull:** Similar a git fetch, obtiene los commits remotos pero automaticamente hace merge de estos cambios. Es el equivalente de ejecutar git fetch seguido de git merge."
   ]
  },
  {
   "cell_type": "code",
   "execution_count": null,
   "metadata": {},
   "outputs": [],
   "source": [
    "!git pull"
   ]
  },
  {
   "cell_type": "markdown",
   "metadata": {},
   "source": [
    "-  **git clone <repositorio remoto>:** Este comando es utilizado para descargar un repositorio remoto para poder trabajarlo como repositorio local."
   ]
  },
  {
   "cell_type": "code",
   "execution_count": null,
   "metadata": {},
   "outputs": [],
   "source": [
    "!git clone https://github.com/vash666/mireporemotodepruebas.git"
   ]
  },
  {
   "cell_type": "markdown",
   "metadata": {},
   "source": [
    "___\n",
    "## Conclusiones\n",
    "- Utilizar un sistema de control de cambios nos permite trabajar de una manera eficiente y ordenada en proyectos que requieran colaboraciones de multiples personas. Hoy en día existen muchos trabajos de desarrollo de software que se realizan de manera remota, por lo que el uso de un sistema de control de cambios se vuelve indispensable para este tipo de tareas ya que permite a personas en diferente ubicación geográfica poder realizar cambios en paralelo en una misma aplicación.\n",
    "\n",
    "- Git nos ofrece una gran cantidad de comandos y funcionalidades que nos permiten trabajar diferentes etapas de una aplicación de manera paralela sin que se afecten entre si. También nos brinda la posibilidad de trabajar con una versión de control local o si lo deseamos poder compartir nuestros archivos en un repositorio remoto."
   ]
  }
 ],
 "metadata": {
  "kernelspec": {
   "display_name": "Python 3",
   "language": "python",
   "name": "python3"
  },
  "language_info": {
   "codemirror_mode": {
    "name": "ipython",
    "version": 3
   },
   "file_extension": ".py",
   "mimetype": "text/x-python",
   "name": "python",
   "nbconvert_exporter": "python",
   "pygments_lexer": "ipython3",
   "version": "3.8.1"
  }
 },
 "nbformat": 4,
 "nbformat_minor": 4
}
